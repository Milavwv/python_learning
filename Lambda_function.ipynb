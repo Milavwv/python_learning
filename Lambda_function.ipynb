{
  "nbformat": 4,
  "nbformat_minor": 0,
  "metadata": {
    "colab": {
      "provenance": [],
      "authorship_tag": "ABX9TyP+xaXdUJb/LliDCcjfixHm",
      "include_colab_link": true
    },
    "kernelspec": {
      "name": "python3",
      "display_name": "Python 3"
    },
    "language_info": {
      "name": "python"
    }
  },
  "cells": [
    {
      "cell_type": "markdown",
      "metadata": {
        "id": "view-in-github",
        "colab_type": "text"
      },
      "source": [
        "<a href=\"https://colab.research.google.com/github/Milavwv/python_learning/blob/main/Lambda_function.ipynb\" target=\"_parent\"><img src=\"https://colab.research.google.com/assets/colab-badge.svg\" alt=\"Open In Colab\"/></a>"
      ]
    },
    {
      "cell_type": "code",
      "execution_count": 1,
      "metadata": {
        "id": "9i1eiIjj9xAI"
      },
      "outputs": [],
      "source": [
        "#lambda arguments:expression\n",
        "#map(func,seq)\n",
        "#filter\n",
        "#reduce(func,seq)"
      ]
    },
    {
      "cell_type": "code",
      "source": [],
      "metadata": {
        "id": "aOJ6EQ1pAq7v"
      },
      "execution_count": null,
      "outputs": []
    },
    {
      "cell_type": "code",
      "source": [
        "add10 =lambda x: x+10\n",
        "print(add10(5))"
      ],
      "metadata": {
        "colab": {
          "base_uri": "https://localhost:8080/"
        },
        "id": "uNv2RvdQ-umd",
        "outputId": "6c37210f-76d2-4782-838e-a0026c08cfe4"
      },
      "execution_count": 2,
      "outputs": [
        {
          "output_type": "stream",
          "name": "stdout",
          "text": [
            "15\n"
          ]
        }
      ]
    },
    {
      "cell_type": "code",
      "source": [
        "def add10_func(x):\n",
        "  return x+10\n",
        "print(add10_func(5))"
      ],
      "metadata": {
        "colab": {
          "base_uri": "https://localhost:8080/"
        },
        "id": "rgPLawSY-8z4",
        "outputId": "b26aa098-e4c2-444e-ac84-e1c228115f67"
      },
      "execution_count": 4,
      "outputs": [
        {
          "output_type": "stream",
          "name": "stdout",
          "text": [
            "15\n"
          ]
        }
      ]
    },
    {
      "cell_type": "code",
      "source": [
        "mult= lambda x,y: x*y"
      ],
      "metadata": {
        "id": "spmUolul_H7x"
      },
      "execution_count": 5,
      "outputs": []
    },
    {
      "cell_type": "code",
      "source": [
        "print(mult(2,7))"
      ],
      "metadata": {
        "colab": {
          "base_uri": "https://localhost:8080/"
        },
        "id": "blDTkTbU_MdK",
        "outputId": "78b4d891-54bf-42a7-b5b1-1f8ea451fd47"
      },
      "execution_count": 6,
      "outputs": [
        {
          "output_type": "stream",
          "name": "stdout",
          "text": [
            "14\n"
          ]
        }
      ]
    },
    {
      "cell_type": "code",
      "source": [
        "points2D =[(1,2),(15,1),(5,-1),(10,4)]\n",
        "points2D_sorted = sorted(points2D)\n",
        "print(points2D)\n",
        "print(points2D_sorted)"
      ],
      "metadata": {
        "colab": {
          "base_uri": "https://localhost:8080/"
        },
        "id": "1sY0x8Mf_OTK",
        "outputId": "16f5d736-8e9f-4d13-f044-cc5b8f08cb2e"
      },
      "execution_count": 7,
      "outputs": [
        {
          "output_type": "stream",
          "name": "stdout",
          "text": [
            "[(1, 2), (15, 1), (5, -1), (10, 4)]\n",
            "[(1, 2), (5, -1), (10, 4), (15, 1)]\n"
          ]
        }
      ]
    },
    {
      "cell_type": "code",
      "source": [
        "points2D =[(1,2),(15,1),(5,-1),(10,4)]\n",
        "points2D_sorted = sorted(points2D,key= lambda x: x[1])\n",
        "print(points2D)\n",
        "print(points2D_sorted)"
      ],
      "metadata": {
        "colab": {
          "base_uri": "https://localhost:8080/"
        },
        "id": "Y13FO_Y7_4b9",
        "outputId": "1451b309-67ee-44f2-dae6-a5265fb45a08"
      },
      "execution_count": 8,
      "outputs": [
        {
          "output_type": "stream",
          "name": "stdout",
          "text": [
            "[(1, 2), (15, 1), (5, -1), (10, 4)]\n",
            "[(5, -1), (15, 1), (1, 2), (10, 4)]\n"
          ]
        }
      ]
    },
    {
      "cell_type": "code",
      "source": [
        "points2D =[(1,2),(15,1),(5,-1),(10,4)]\n",
        "def sortbyy(x):\n",
        "  return x[1]\n",
        "points2D_sorted = sorted(points2D,key=sortbyy)\n",
        "print(points2D)\n",
        "print(points2D_sorted)"
      ],
      "metadata": {
        "colab": {
          "base_uri": "https://localhost:8080/"
        },
        "id": "o__8Gl75AETU",
        "outputId": "1f72c79d-12a5-411a-b6e2-bf2b65719ca3"
      },
      "execution_count": 9,
      "outputs": [
        {
          "output_type": "stream",
          "name": "stdout",
          "text": [
            "[(1, 2), (15, 1), (5, -1), (10, 4)]\n",
            "[(5, -1), (15, 1), (1, 2), (10, 4)]\n"
          ]
        }
      ]
    },
    {
      "cell_type": "code",
      "source": [
        "points2D =[(1,2),(15,1),(5,-1),(10,4)]\n",
        "points2D_sorted = sorted(points2D,key= lambda x: x[0]+x[1])\n",
        "print(points2D)\n",
        "print(points2D_sorted)"
      ],
      "metadata": {
        "colab": {
          "base_uri": "https://localhost:8080/"
        },
        "id": "HVAU5WfXARTQ",
        "outputId": "ade6dfc4-fbc9-4b53-d3ad-633b26b3d1ac"
      },
      "execution_count": 10,
      "outputs": [
        {
          "output_type": "stream",
          "name": "stdout",
          "text": [
            "[(1, 2), (15, 1), (5, -1), (10, 4)]\n",
            "[(1, 2), (5, -1), (10, 4), (15, 1)]\n"
          ]
        }
      ]
    },
    {
      "cell_type": "code",
      "source": [
        "a=[1,2,3,4,5]\n",
        "b=map(lambda x: x*2,a)\n",
        "print(b)\n"
      ],
      "metadata": {
        "colab": {
          "base_uri": "https://localhost:8080/"
        },
        "id": "qOB2Zkm8AkiB",
        "outputId": "d14b06e6-3ae2-419c-ef15-aa69f73d3e74"
      },
      "execution_count": 11,
      "outputs": [
        {
          "output_type": "stream",
          "name": "stdout",
          "text": [
            "<map object at 0x7f9682e379a0>\n"
          ]
        }
      ]
    },
    {
      "cell_type": "code",
      "source": [
        "a=[1,2,3,4,5]\n",
        "b=map(lambda x: x*2,a)\n",
        "print(list(b))"
      ],
      "metadata": {
        "colab": {
          "base_uri": "https://localhost:8080/"
        },
        "id": "v21SAwd7A3qA",
        "outputId": "b85d5fde-7c3c-4285-9535-0058c4095807"
      },
      "execution_count": 12,
      "outputs": [
        {
          "output_type": "stream",
          "name": "stdout",
          "text": [
            "[2, 4, 6, 8, 10]\n"
          ]
        }
      ]
    },
    {
      "cell_type": "code",
      "source": [
        "a=[1,2,3,4,5]\n",
        "c=[x*2 for x in a ]\n",
        "print(c)"
      ],
      "metadata": {
        "colab": {
          "base_uri": "https://localhost:8080/"
        },
        "id": "wKs8oQVAA73K",
        "outputId": "a5f43f49-094a-4fab-99dd-2eb71dce7952"
      },
      "execution_count": 13,
      "outputs": [
        {
          "output_type": "stream",
          "name": "stdout",
          "text": [
            "[2, 4, 6, 8, 10]\n"
          ]
        }
      ]
    },
    {
      "cell_type": "code",
      "source": [
        "a=[1,2,3,4,5,6]\n",
        "b=filter(lambda x: x%2==0,a)\n",
        "print(list(b))"
      ],
      "metadata": {
        "colab": {
          "base_uri": "https://localhost:8080/"
        },
        "id": "s6tLRdIyBJjo",
        "outputId": "ae46199c-3108-419b-e577-5b15e9b3299e"
      },
      "execution_count": 15,
      "outputs": [
        {
          "output_type": "stream",
          "name": "stdout",
          "text": [
            "[2, 4, 6]\n"
          ]
        }
      ]
    },
    {
      "cell_type": "code",
      "source": [
        "c=[x for x in a if x%2==0]\n",
        "print(c)"
      ],
      "metadata": {
        "colab": {
          "base_uri": "https://localhost:8080/"
        },
        "id": "4056AoxtBdSI",
        "outputId": "aa46b430-43da-4619-9ad6-8cf1d8f36c82"
      },
      "execution_count": 17,
      "outputs": [
        {
          "output_type": "stream",
          "name": "stdout",
          "text": [
            "[2, 4, 6]\n"
          ]
        }
      ]
    },
    {
      "cell_type": "code",
      "source": [
        "c=[x*3 for x in a if x%3==0]\n",
        "print(a)\n",
        "print(list(x*3 for x in a))\n",
        "print(c)\n"
      ],
      "metadata": {
        "colab": {
          "base_uri": "https://localhost:8080/"
        },
        "id": "L954Tvf9BpH4",
        "outputId": "abc3fbb5-9c49-4741-ba63-e856a16536fa"
      },
      "execution_count": 22,
      "outputs": [
        {
          "output_type": "stream",
          "name": "stdout",
          "text": [
            "[1, 2, 3, 4, 5, 6]\n",
            "[3, 6, 9, 12, 15, 18]\n",
            "[9, 18]\n"
          ]
        }
      ]
    },
    {
      "cell_type": "code",
      "source": [
        "from functools import reduce\n",
        "a=[1,2,3,4]\n",
        "producta= reduce(lambda x,y : x*y,a)\n",
        "print(producta)\n",
        "#producta= 1*2*3*4\n"
      ],
      "metadata": {
        "colab": {
          "base_uri": "https://localhost:8080/"
        },
        "id": "fFwzlpe-By4k",
        "outputId": "209870a9-0fe3-4b94-e9bf-de73870231c0"
      },
      "execution_count": 25,
      "outputs": [
        {
          "output_type": "stream",
          "name": "stdout",
          "text": [
            "24\n"
          ]
        }
      ]
    },
    {
      "cell_type": "code",
      "source": [],
      "metadata": {
        "id": "qqmlBCgECcu8"
      },
      "execution_count": null,
      "outputs": []
    }
  ]
}