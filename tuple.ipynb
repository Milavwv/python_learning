{
  "nbformat": 4,
  "nbformat_minor": 0,
  "metadata": {
    "colab": {
      "provenance": [],
      "authorship_tag": "ABX9TyNPvSKg+PyrABg1BUnmfolx",
      "include_colab_link": true
    },
    "kernelspec": {
      "name": "python3",
      "display_name": "Python 3"
    },
    "language_info": {
      "name": "python"
    }
  },
  "cells": [
    {
      "cell_type": "markdown",
      "metadata": {
        "id": "view-in-github",
        "colab_type": "text"
      },
      "source": [
        "<a href=\"https://colab.research.google.com/github/Milavwv/python_learning/blob/main/tuple.ipynb\" target=\"_parent\"><img src=\"https://colab.research.google.com/assets/colab-badge.svg\" alt=\"Open In Colab\"/></a>"
      ]
    },
    {
      "cell_type": "code",
      "execution_count": null,
      "metadata": {
        "colab": {
          "base_uri": "https://localhost:8080/"
        },
        "id": "j--b0GXKpDkP",
        "outputId": "716da7fc-8585-45e9-9388-9873a31d1642"
      },
      "outputs": [
        {
          "output_type": "stream",
          "name": "stdout",
          "text": [
            "('Max', 28, 'Boston')\n"
          ]
        }
      ],
      "source": [
        "mytuple =(\"Max\",28,\"Boston\")\n",
        "print(mytuple)"
      ]
    },
    {
      "cell_type": "code",
      "source": [
        "mytuple =\"Max\",28,\"Boston\"\n",
        "print(mytuple)"
      ],
      "metadata": {
        "colab": {
          "base_uri": "https://localhost:8080/"
        },
        "id": "C5VTlaucpRZn",
        "outputId": "5e1ed94f-8b65-4a94-e40f-b82743a69cbe"
      },
      "execution_count": null,
      "outputs": [
        {
          "output_type": "stream",
          "name": "stdout",
          "text": [
            "('Max', 28, 'Boston')\n"
          ]
        }
      ]
    },
    {
      "cell_type": "code",
      "source": [
        "mytuple=(\"max\")\n",
        "print(type(mytuple))"
      ],
      "metadata": {
        "colab": {
          "base_uri": "https://localhost:8080/"
        },
        "id": "N7hffvd-pg3C",
        "outputId": "f765ba9d-6a7c-4e64-d5d9-6054ebf7dcd2"
      },
      "execution_count": null,
      "outputs": [
        {
          "output_type": "stream",
          "name": "stdout",
          "text": [
            "<class 'str'>\n"
          ]
        }
      ]
    },
    {
      "cell_type": "code",
      "source": [
        "mytuple=(\"max\",)\n",
        "print(type(mytuple))"
      ],
      "metadata": {
        "colab": {
          "base_uri": "https://localhost:8080/"
        },
        "id": "t1DtLyenpm0L",
        "outputId": "e2f5aad2-345f-460e-dafb-b5da919c6b4f"
      },
      "execution_count": null,
      "outputs": [
        {
          "output_type": "stream",
          "name": "stdout",
          "text": [
            "<class 'tuple'>\n"
          ]
        }
      ]
    },
    {
      "cell_type": "code",
      "source": [],
      "metadata": {
        "id": "U3XYdqdGqho5"
      },
      "execution_count": null,
      "outputs": []
    },
    {
      "cell_type": "code",
      "source": [
        "mytuple=tuple([\"Max\",28,\"Boston\"])\n",
        "print(type(mytuple))"
      ],
      "metadata": {
        "colab": {
          "base_uri": "https://localhost:8080/"
        },
        "id": "JZE2sO8Dpo-q",
        "outputId": "9e9ec1ef-0333-4914-9e19-5b1502adc047"
      },
      "execution_count": null,
      "outputs": [
        {
          "output_type": "stream",
          "name": "stdout",
          "text": [
            "<class 'tuple'>\n"
          ]
        }
      ]
    },
    {
      "cell_type": "code",
      "source": [
        "item = mytuple[-1]\n",
        "print(item)"
      ],
      "metadata": {
        "colab": {
          "base_uri": "https://localhost:8080/"
        },
        "id": "Z3r32_Fxpw-D",
        "outputId": "d9405fa2-53a1-479c-a317-60d1fd39669f"
      },
      "execution_count": null,
      "outputs": [
        {
          "output_type": "stream",
          "name": "stdout",
          "text": [
            "Boston\n"
          ]
        }
      ]
    },
    {
      "cell_type": "code",
      "source": [],
      "metadata": {
        "id": "fHc6C9DaqhXK"
      },
      "execution_count": null,
      "outputs": []
    },
    {
      "cell_type": "code",
      "source": [
        "mytuple[0]=\"Tim\" #impossible because tuple is immutable"
      ],
      "metadata": {
        "colab": {
          "base_uri": "https://localhost:8080/"
        },
        "id": "Wycyp5Ucp1XI",
        "outputId": "8c667666-fd40-4d81-c564-58fa454d5554"
      },
      "execution_count": null,
      "outputs": [
        {
          "output_type": "stream",
          "name": "stdout",
          "text": [
            "Boston\n"
          ]
        }
      ]
    },
    {
      "cell_type": "code",
      "source": [
        " for i in mytuple:\n",
        "  print(i)"
      ],
      "metadata": {
        "colab": {
          "base_uri": "https://localhost:8080/"
        },
        "id": "7ig2CYGfqBCF",
        "outputId": "ab2283bb-8f0d-4c0b-adb8-5c57f6dc661a"
      },
      "execution_count": null,
      "outputs": [
        {
          "output_type": "stream",
          "name": "stdout",
          "text": [
            "Max\n",
            "28\n",
            "Boston\n"
          ]
        }
      ]
    },
    {
      "cell_type": "code",
      "source": [
        "if  \"Max\" in mytuple:\n",
        "  print(\"yes\")\n",
        "else:\n",
        "  print(\"no\")"
      ],
      "metadata": {
        "colab": {
          "base_uri": "https://localhost:8080/"
        },
        "id": "OpOhjs8Kq5Ay",
        "outputId": "cd99aa9f-7f24-4139-9218-e743c022b597"
      },
      "execution_count": null,
      "outputs": [
        {
          "output_type": "stream",
          "name": "stdout",
          "text": [
            "yes\n"
          ]
        }
      ]
    },
    {
      "cell_type": "code",
      "source": [
        "len(mytuple)"
      ],
      "metadata": {
        "colab": {
          "base_uri": "https://localhost:8080/"
        },
        "id": "fuPpD4QrrDum",
        "outputId": "90f296b3-f396-48c6-90d7-932fa92e8113"
      },
      "execution_count": null,
      "outputs": [
        {
          "output_type": "execute_result",
          "data": {
            "text/plain": [
              "3"
            ]
          },
          "metadata": {},
          "execution_count": 33
        }
      ]
    },
    {
      "cell_type": "code",
      "source": [
        "mytuple.count(\"Max\")"
      ],
      "metadata": {
        "colab": {
          "base_uri": "https://localhost:8080/"
        },
        "id": "CSYniX5nrMwb",
        "outputId": "859c81e4-8b10-4b1b-b713-735f19d4186d"
      },
      "execution_count": null,
      "outputs": [
        {
          "output_type": "execute_result",
          "data": {
            "text/plain": [
              "1"
            ]
          },
          "metadata": {},
          "execution_count": 39
        }
      ]
    },
    {
      "cell_type": "code",
      "source": [
        "mytuple.index(28)"
      ],
      "metadata": {
        "colab": {
          "base_uri": "https://localhost:8080/"
        },
        "id": "yWGFbL33rUg6",
        "outputId": "df91f37c-0665-49fb-e0f0-c7eb7d0dbaf8"
      },
      "execution_count": null,
      "outputs": [
        {
          "output_type": "execute_result",
          "data": {
            "text/plain": [
              "1"
            ]
          },
          "metadata": {},
          "execution_count": 38
        }
      ]
    },
    {
      "cell_type": "code",
      "source": [
        "mylist=list(mytuple)\n",
        "print(mylist)\n",
        "type(mylist)"
      ],
      "metadata": {
        "colab": {
          "base_uri": "https://localhost:8080/"
        },
        "id": "9GQWWXNzrcPc",
        "outputId": "8842d435-ac3a-43cc-bfb6-9d7d5da8439e"
      },
      "execution_count": null,
      "outputs": [
        {
          "output_type": "stream",
          "name": "stdout",
          "text": [
            "['Max', 28, 'Boston']\n"
          ]
        },
        {
          "output_type": "execute_result",
          "data": {
            "text/plain": [
              "list"
            ]
          },
          "metadata": {},
          "execution_count": 41
        }
      ]
    },
    {
      "cell_type": "code",
      "source": [
        " mytuple=tuple(mylist)\n",
        " print(mytuple)\n",
        " type(mytuple)"
      ],
      "metadata": {
        "colab": {
          "base_uri": "https://localhost:8080/"
        },
        "id": "CakV4kJyrt_P",
        "outputId": "038c33a7-d240-4d58-985f-836d4a511a3b"
      },
      "execution_count": null,
      "outputs": [
        {
          "output_type": "stream",
          "name": "stdout",
          "text": [
            "('Max', 28, 'Boston')\n"
          ]
        },
        {
          "output_type": "execute_result",
          "data": {
            "text/plain": [
              "tuple"
            ]
          },
          "metadata": {},
          "execution_count": 42
        }
      ]
    },
    {
      "cell_type": "code",
      "source": [
        " a=(1,2,3,4,5,6,7,8,9,10)\n",
        " b=a[2:5]\n",
        " print(b)"
      ],
      "metadata": {
        "colab": {
          "base_uri": "https://localhost:8080/"
        },
        "id": "oFLmbs5Ir7Ol",
        "outputId": "6fd0a38a-9919-45b6-f68a-71349f5aa9c6"
      },
      "execution_count": null,
      "outputs": [
        {
          "output_type": "stream",
          "name": "stdout",
          "text": [
            "(3, 4, 5)\n"
          ]
        }
      ]
    },
    {
      "cell_type": "code",
      "source": [
        "b=a[:5]\n",
        "print(b)"
      ],
      "metadata": {
        "colab": {
          "base_uri": "https://localhost:8080/"
        },
        "id": "Is23kmP9sHDJ",
        "outputId": "5aa9f57b-f5f5-4b98-e5ef-3a2393ebf434"
      },
      "execution_count": null,
      "outputs": [
        {
          "output_type": "stream",
          "name": "stdout",
          "text": [
            "(1, 2, 3, 4, 5)\n"
          ]
        }
      ]
    },
    {
      "cell_type": "code",
      "source": [
        "b=a[::2]\n",
        "print(b)\n"
      ],
      "metadata": {
        "colab": {
          "base_uri": "https://localhost:8080/"
        },
        "id": "hCbTDjOCsORq",
        "outputId": "68d4ff9c-97e0-4023-e4b4-f267e252ad50"
      },
      "execution_count": null,
      "outputs": [
        {
          "output_type": "stream",
          "name": "stdout",
          "text": [
            "(1, 3, 5, 7, 9)\n"
          ]
        }
      ]
    },
    {
      "cell_type": "code",
      "source": [
        "b=a[::-1]\n",
        "print(b)"
      ],
      "metadata": {
        "colab": {
          "base_uri": "https://localhost:8080/"
        },
        "id": "e1h6wiUhsVFU",
        "outputId": "ed3b6a0f-8c27-4ad7-c592-c235f89cbcf2"
      },
      "execution_count": null,
      "outputs": [
        {
          "output_type": "stream",
          "name": "stdout",
          "text": [
            "(10, 9, 8, 7, 6, 5, 4, 3, 2, 1)\n"
          ]
        }
      ]
    },
    {
      "cell_type": "code",
      "source": [
        "print(mytuple)"
      ],
      "metadata": {
        "id": "w6ZzzyPnsa9J",
        "colab": {
          "base_uri": "https://localhost:8080/"
        },
        "outputId": "b2fbe454-5347-477f-bfae-224538d10787"
      },
      "execution_count": 53,
      "outputs": [
        {
          "output_type": "stream",
          "name": "stdout",
          "text": [
            "('Max', 28, 'Boston')\n"
          ]
        }
      ]
    },
    {
      "cell_type": "code",
      "source": [
        "name,age,city =mytuple\n",
        "print(name)\n",
        "print(age)\n",
        "print(city)"
      ],
      "metadata": {
        "colab": {
          "base_uri": "https://localhost:8080/"
        },
        "id": "3ok-COvZs6om",
        "outputId": "f814737e-4e79-4334-f498-378cdb43d2db"
      },
      "execution_count": 54,
      "outputs": [
        {
          "output_type": "stream",
          "name": "stdout",
          "text": [
            "Max\n",
            "28\n",
            "Boston\n"
          ]
        }
      ]
    },
    {
      "cell_type": "code",
      "source": [
        "my_tuple=(0,1,2,3,4)\n",
        "i1,*i2,i3 =my_tuple\n",
        "print(i1)\n",
        "print(i3)\n",
        "print(i2)"
      ],
      "metadata": {
        "id": "j6eyaoWXtAnM",
        "outputId": "d03ea38e-2620-4e6e-bed1-46e837ed6f80",
        "colab": {
          "base_uri": "https://localhost:8080/"
        }
      },
      "execution_count": 56,
      "outputs": [
        {
          "output_type": "stream",
          "name": "stdout",
          "text": [
            "0\n",
            "4\n",
            "[1, 2, 3]\n"
          ]
        }
      ]
    },
    {
      "cell_type": "code",
      "source": [
        " import sys"
      ],
      "metadata": {
        "id": "nV0L0WmutN9a"
      },
      "execution_count": 57,
      "outputs": []
    },
    {
      "cell_type": "code",
      "source": [
        "mylist=[0,1,2,\"hello\",True]\n",
        "mytuple=(0,1,2,\"hello\",True)\n",
        "print(sys.getsizeof(mylist),\"bytes\")\n",
        "print(sys.getsizeof(mytuple),\"bytes\")"
      ],
      "metadata": {
        "id": "HMAXDhqhuB6w",
        "outputId": "a9e69701-161f-4e69-8963-e85335b6d69c",
        "colab": {
          "base_uri": "https://localhost:8080/"
        }
      },
      "execution_count": 58,
      "outputs": [
        {
          "output_type": "stream",
          "name": "stdout",
          "text": [
            "104 bytes\n",
            "80 bytes\n"
          ]
        }
      ]
    },
    {
      "cell_type": "code",
      "source": [
        " import timeit"
      ],
      "metadata": {
        "id": "hjmIfCCkubGV"
      },
      "execution_count": 59,
      "outputs": []
    },
    {
      "cell_type": "code",
      "source": [
        "print(timeit.timeit(stmt=\"[0,1,2,3,4,5]\",number=1000000))\n",
        "print(timeit.timeit(stmt=\"(0,1,2,3,4,5)\",number=1000000))"
      ],
      "metadata": {
        "id": "etvAOyAPugJk",
        "outputId": "24dafbf6-52a3-4fdd-b37c-bd612f76d3cb",
        "colab": {
          "base_uri": "https://localhost:8080/"
        }
      },
      "execution_count": 61,
      "outputs": [
        {
          "output_type": "stream",
          "name": "stdout",
          "text": [
            "0.056638372999941566\n",
            "0.011980006999920079\n"
          ]
        }
      ]
    },
    {
      "cell_type": "code",
      "source": [],
      "metadata": {
        "id": "cgxEUlcpv8jJ"
      },
      "execution_count": null,
      "outputs": []
    }
  ]
}