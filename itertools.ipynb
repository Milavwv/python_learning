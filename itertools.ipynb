{
  "nbformat": 4,
  "nbformat_minor": 0,
  "metadata": {
    "colab": {
      "provenance": [],
      "authorship_tag": "ABX9TyM3jt96mH059PGRiLsrkWn5",
      "include_colab_link": true
    },
    "kernelspec": {
      "name": "python3",
      "display_name": "Python 3"
    },
    "language_info": {
      "name": "python"
    }
  },
  "cells": [
    {
      "cell_type": "markdown",
      "metadata": {
        "id": "view-in-github",
        "colab_type": "text"
      },
      "source": [
        "<a href=\"https://colab.research.google.com/github/Milavwv/python_learning/blob/main/itertools.ipynb\" target=\"_parent\"><img src=\"https://colab.research.google.com/assets/colab-badge.svg\" alt=\"Open In Colab\"/></a>"
      ]
    },
    {
      "cell_type": "code",
      "execution_count": 1,
      "metadata": {
        "id": "lC-9xu-8tdfU"
      },
      "outputs": [],
      "source": [
        "# itertools : product, permutations ,combinations, accumalate,groupby and infinite iterators\n",
        "#probability and statistic problem"
      ]
    },
    {
      "cell_type": "code",
      "source": [
        "from itertools import product"
      ],
      "metadata": {
        "id": "nDsEJ_YPtwgI"
      },
      "execution_count": 2,
      "outputs": []
    },
    {
      "cell_type": "code",
      "source": [
        "a= [1,2]\n",
        "b=[3,4]\n",
        "prod =product(a,b)\n",
        "print(prod)"
      ],
      "metadata": {
        "colab": {
          "base_uri": "https://localhost:8080/"
        },
        "id": "QB0m0i7bvYg4",
        "outputId": "b46a7665-3c27-4519-9f72-d81f4b28cb3b"
      },
      "execution_count": 3,
      "outputs": [
        {
          "output_type": "stream",
          "name": "stdout",
          "text": [
            "<itertools.product object at 0x7eaa2efab9c0>\n"
          ]
        }
      ]
    },
    {
      "cell_type": "code",
      "source": [
        "print(list(prod))"
      ],
      "metadata": {
        "colab": {
          "base_uri": "https://localhost:8080/"
        },
        "id": "qN5H4CSIvlKC",
        "outputId": "acc107e2-5f84-4af5-9749-a93e4700de55"
      },
      "execution_count": 4,
      "outputs": [
        {
          "output_type": "stream",
          "name": "stdout",
          "text": [
            "[(1, 3), (1, 4), (2, 3), (2, 4)]\n"
          ]
        }
      ]
    },
    {
      "cell_type": "code",
      "source": [
        "a= [1,2]\n",
        "b=[3]\n",
        "prod =product(a,b,repeat=2)\n",
        "print(list(prod))"
      ],
      "metadata": {
        "colab": {
          "base_uri": "https://localhost:8080/"
        },
        "id": "LcIWtINrvoSM",
        "outputId": "bc8e8901-ed3c-4d13-d68e-94cf810485a7"
      },
      "execution_count": 6,
      "outputs": [
        {
          "output_type": "stream",
          "name": "stdout",
          "text": [
            "[(1, 3, 1, 3), (1, 3, 2, 3), (2, 3, 1, 3), (2, 3, 2, 3)]\n"
          ]
        }
      ]
    },
    {
      "cell_type": "code",
      "source": [
        "from itertools import permutations"
      ],
      "metadata": {
        "id": "fd7BI_4kvwlX"
      },
      "execution_count": 7,
      "outputs": []
    },
    {
      "cell_type": "code",
      "source": [
        "b= [1,2,3]\n",
        "perm =permutations(b)\n",
        "print(list(perm))\n",
        "\n",
        "\n"
      ],
      "metadata": {
        "colab": {
          "base_uri": "https://localhost:8080/"
        },
        "id": "oy3hnPcXwAEY",
        "outputId": "be74322e-7702-4627-f707-20b9fe590417"
      },
      "execution_count": 25,
      "outputs": [
        {
          "output_type": "stream",
          "name": "stdout",
          "text": [
            "[(1, 2, 3), (1, 3, 2), (2, 1, 3), (2, 3, 1), (3, 1, 2), (3, 2, 1)]\n"
          ]
        }
      ]
    },
    {
      "cell_type": "code",
      "source": [
        "b= [1,2,3]\n",
        "perm =permutations(b)\n",
        "print(len(list(perm)))"
      ],
      "metadata": {
        "colab": {
          "base_uri": "https://localhost:8080/"
        },
        "id": "hV_J438VwNz3",
        "outputId": "2fc0a4b8-09d9-41b2-8a34-6a2466cce339"
      },
      "execution_count": 26,
      "outputs": [
        {
          "output_type": "stream",
          "name": "stdout",
          "text": [
            "6\n"
          ]
        }
      ]
    },
    {
      "cell_type": "code",
      "source": [
        "a =[1,2,3]\n",
        "perm =permutations(a,2)\n",
        "print(list(perm))"
      ],
      "metadata": {
        "colab": {
          "base_uri": "https://localhost:8080/"
        },
        "id": "Q7-K9doWxwex",
        "outputId": "21b812d0-a7a7-445e-fc97-c6ce003b7317"
      },
      "execution_count": 27,
      "outputs": [
        {
          "output_type": "stream",
          "name": "stdout",
          "text": [
            "[(1, 2), (1, 3), (2, 1), (2, 3), (3, 1), (3, 2)]\n"
          ]
        }
      ]
    },
    {
      "cell_type": "code",
      "source": [
        "a =[1,2,3]\n",
        "perm =permutations(a,2)\n",
        "print(len(list(perm)))"
      ],
      "metadata": {
        "colab": {
          "base_uri": "https://localhost:8080/"
        },
        "id": "gWilcn52yVkq",
        "outputId": "62618b26-6a4e-4163-a143-9ce8c1a9c1b8"
      },
      "execution_count": 28,
      "outputs": [
        {
          "output_type": "stream",
          "name": "stdout",
          "text": [
            "6\n"
          ]
        }
      ]
    },
    {
      "cell_type": "code",
      "source": [
        "a =[3,4,5,6,7,8]\n",
        "perm =permutations(a,2)\n",
        "print(list(perm))"
      ],
      "metadata": {
        "colab": {
          "base_uri": "https://localhost:8080/"
        },
        "id": "_4qW8pKWyXk9",
        "outputId": "689b2f46-8952-4f8d-fda7-d363bcffc5ab"
      },
      "execution_count": 30,
      "outputs": [
        {
          "output_type": "stream",
          "name": "stdout",
          "text": [
            "[(3, 4), (3, 5), (3, 6), (3, 7), (3, 8), (4, 3), (4, 5), (4, 6), (4, 7), (4, 8), (5, 3), (5, 4), (5, 6), (5, 7), (5, 8), (6, 3), (6, 4), (6, 5), (6, 7), (6, 8), (7, 3), (7, 4), (7, 5), (7, 6), (7, 8), (8, 3), (8, 4), (8, 5), (8, 6), (8, 7)]\n"
          ]
        }
      ]
    },
    {
      "cell_type": "code",
      "source": [
        "a =[3,4,5,6,7,8]\n",
        "perm =permutations(a,2)\n",
        "print(len(list(perm)))"
      ],
      "metadata": {
        "colab": {
          "base_uri": "https://localhost:8080/"
        },
        "id": "-KkPwLdvyifo",
        "outputId": "46763a79-c59e-40ee-c09e-0c52dcfc8d20"
      },
      "execution_count": 31,
      "outputs": [
        {
          "output_type": "stream",
          "name": "stdout",
          "text": [
            "30\n"
          ]
        }
      ]
    },
    {
      "cell_type": "code",
      "source": [
        "from itertools import combinations,combinations_with_replacement"
      ],
      "metadata": {
        "id": "rZo09WFAynLT"
      },
      "execution_count": 35,
      "outputs": []
    },
    {
      "cell_type": "markdown",
      "source": [],
      "metadata": {
        "id": "GEaJmyjVzY1D"
      }
    },
    {
      "cell_type": "code",
      "source": [
        "a=[1,2,3,4]\n",
        "com =combinations(a,2)\n",
        "print(list(com))\n",
        "comb=combinations_with_replacement(a,2)\n",
        "print(list(comb))"
      ],
      "metadata": {
        "colab": {
          "base_uri": "https://localhost:8080/"
        },
        "id": "zIIIyRtnzEvG",
        "outputId": "a0fc5c4f-63a6-498e-9788-e124cdd146fd"
      },
      "execution_count": 38,
      "outputs": [
        {
          "output_type": "stream",
          "name": "stdout",
          "text": [
            "[(1, 2), (1, 3), (1, 4), (2, 3), (2, 4), (3, 4)]\n",
            "[(1, 1), (1, 2), (1, 3), (1, 4), (2, 2), (2, 3), (2, 4), (3, 3), (3, 4), (4, 4)]\n"
          ]
        }
      ]
    },
    {
      "cell_type": "code",
      "source": [
        "from itertools import accumulate\n",
        "import operator"
      ],
      "metadata": {
        "id": "77en_hYazSXp"
      },
      "execution_count": 42,
      "outputs": []
    },
    {
      "cell_type": "code",
      "source": [
        "a=[1,2,3,4]\n",
        "acc =accumulate(a,func=operator.mul)\n",
        "print(a)\n",
        "print(list(acc))"
      ],
      "metadata": {
        "colab": {
          "base_uri": "https://localhost:8080/"
        },
        "id": "nGzohB8Kz4x_",
        "outputId": "7b922b13-3390-4786-9b09-cdbba47a9598"
      },
      "execution_count": 43,
      "outputs": [
        {
          "output_type": "stream",
          "name": "stdout",
          "text": [
            "[1, 2, 3, 4]\n",
            "[1, 2, 6, 24]\n"
          ]
        }
      ]
    },
    {
      "cell_type": "code",
      "source": [
        "a=[1,2,3,4]\n",
        "acc =accumulate(a,func=max)\n",
        "print(a)\n",
        "print(list(acc))"
      ],
      "metadata": {
        "colab": {
          "base_uri": "https://localhost:8080/"
        },
        "id": "3slTyAzb0BJm",
        "outputId": "c6e2721d-63b9-4a40-c01a-8f3d4e32dd64"
      },
      "execution_count": 44,
      "outputs": [
        {
          "output_type": "stream",
          "name": "stdout",
          "text": [
            "[1, 2, 3, 4]\n",
            "[1, 2, 3, 4]\n"
          ]
        }
      ]
    },
    {
      "cell_type": "code",
      "source": [
        "a=[1,2,5,3,4]\n",
        "acc =accumulate(a,func=max)\n",
        "print(a)\n",
        "print(list(acc))"
      ],
      "metadata": {
        "colab": {
          "base_uri": "https://localhost:8080/"
        },
        "id": "Rj9kCulV0WtX",
        "outputId": "aa3cab14-aada-4091-86e7-f58110192537"
      },
      "execution_count": 45,
      "outputs": [
        {
          "output_type": "stream",
          "name": "stdout",
          "text": [
            "[1, 2, 5, 3, 4]\n",
            "[1, 2, 5, 5, 5]\n"
          ]
        }
      ]
    },
    {
      "cell_type": "code",
      "source": [
        "from itertools import groupby"
      ],
      "metadata": {
        "id": "EusIoxgr0ceR"
      },
      "execution_count": 46,
      "outputs": []
    },
    {
      "cell_type": "code",
      "source": [
        "a =[1,2,3,4]\n",
        "\n",
        "def smaller_than_3(x):\n",
        "  return x<3\n",
        "group =groupby(a,key=smaller_than_3)\n",
        "\n",
        "for key,value in group:\n",
        "  print(key,list(value))\n",
        "\n"
      ],
      "metadata": {
        "colab": {
          "base_uri": "https://localhost:8080/"
        },
        "id": "U5cpeaeh0wyU",
        "outputId": "0ee87c3e-b1bc-4d0c-94e6-280c4f17eb55"
      },
      "execution_count": 49,
      "outputs": [
        {
          "output_type": "stream",
          "name": "stdout",
          "text": [
            "True [1, 2]\n",
            "False [3, 4]\n"
          ]
        }
      ]
    },
    {
      "cell_type": "code",
      "source": [
        "a =[1,2,3,4]\n",
        "\n",
        "group =groupby(a,key=lambda x:x<3)\n",
        "\n",
        "for key,value in group:\n",
        "  print(key,list(value))"
      ],
      "metadata": {
        "colab": {
          "base_uri": "https://localhost:8080/"
        },
        "id": "FTko14Ki1FlI",
        "outputId": "e7a34e61-97b9-4bfc-a9d3-1f075953e347"
      },
      "execution_count": 50,
      "outputs": [
        {
          "output_type": "stream",
          "name": "stdout",
          "text": [
            "True [1, 2]\n",
            "False [3, 4]\n"
          ]
        }
      ]
    },
    {
      "cell_type": "code",
      "source": [
        "persons =[{\"name\":\"Tim\",\"age\":25},{\"name\":\"dan\",\"age\":25},{\"name\":\"lisa\",\"age\":27},{\"name\":\"Claire\",\"age\":28}]\n",
        "group =groupby(persons,key=lambda x:x[\"age\"])\n",
        "for x,y in group:\n",
        "  print(x,list(y))"
      ],
      "metadata": {
        "colab": {
          "base_uri": "https://localhost:8080/"
        },
        "id": "ynSrD0Cp188m",
        "outputId": "20b5153d-66ff-4ddf-d063-58ba34a2f7a1"
      },
      "execution_count": 53,
      "outputs": [
        {
          "output_type": "stream",
          "name": "stdout",
          "text": [
            "25 [{'name': 'Tim', 'age': 25}, {'name': 'dan', 'age': 25}]\n",
            "27 [{'name': 'lisa', 'age': 27}]\n",
            "28 [{'name': 'Claire', 'age': 28}]\n"
          ]
        }
      ]
    },
    {
      "cell_type": "code",
      "source": [
        "persons =[{\"name\":\"Tim\",\"age\":25},{\"name\":\"dan\",\"age\":25},{\"name\":\"lisa\",\"age\":27},{\"name\":\"Claire\",\"age\":28}]\n",
        "group =groupby(persons,key=lambda x:x[\"age\"])\n",
        "\n",
        "for key,value in group:\n",
        "  print(key,list(value))"
      ],
      "metadata": {
        "colab": {
          "base_uri": "https://localhost:8080/"
        },
        "id": "OnRjJ8mp2s7Z",
        "outputId": "60f8cb80-c345-4a94-a01a-d27e7d26c66f"
      },
      "execution_count": 56,
      "outputs": [
        {
          "output_type": "stream",
          "name": "stdout",
          "text": [
            "25 [{'name': 'Tim', 'age': 25}, {'name': 'dan', 'age': 25}]\n",
            "27 [{'name': 'lisa', 'age': 27}]\n",
            "28 [{'name': 'Claire', 'age': 28}]\n"
          ]
        }
      ]
    },
    {
      "cell_type": "code",
      "source": [
        "from itertools import count,cycle,repeat"
      ],
      "metadata": {
        "id": "BogVxnAo29lH"
      },
      "execution_count": 57,
      "outputs": []
    },
    {
      "cell_type": "markdown",
      "source": [
        "sys"
      ],
      "metadata": {
        "id": "zjDxjyAg360C"
      }
    },
    {
      "cell_type": "code",
      "source": [
        "for i in count(10):\n",
        "  print(i)\n",
        "  if i == 15:\n",
        "    break"
      ],
      "metadata": {
        "colab": {
          "base_uri": "https://localhost:8080/"
        },
        "id": "C644aFi-3Rrv",
        "outputId": "53c5b2bb-e0a3-465f-9374-dba36aac7892"
      },
      "execution_count": 60,
      "outputs": [
        {
          "output_type": "stream",
          "name": "stdout",
          "text": [
            "10\n",
            "11\n",
            "12\n",
            "13\n",
            "14\n",
            "15\n"
          ]
        }
      ]
    },
    {
      "cell_type": "code",
      "source": [
        "a =[1,2,3]\n",
        "count=0\n",
        "for i in cycle(a):\n",
        "  print(i)\n",
        "  count += 1\n",
        "  if count==10:\n",
        "    break"
      ],
      "metadata": {
        "colab": {
          "base_uri": "https://localhost:8080/"
        },
        "id": "w7vyhvqo3Zrr",
        "outputId": "9c83f2dc-ba63-4db6-9ae3-4d527807d7aa"
      },
      "execution_count": 64,
      "outputs": [
        {
          "output_type": "stream",
          "name": "stdout",
          "text": [
            "1\n",
            "2\n",
            "3\n",
            "1\n",
            "2\n",
            "3\n",
            "1\n",
            "2\n",
            "3\n",
            "1\n"
          ]
        }
      ]
    },
    {
      "cell_type": "code",
      "source": [
        "a =[1,2,3]\n",
        "count=0\n",
        "for i in repeat(1):\n",
        "  print(i)\n",
        "  count += 1\n",
        "  if count==10:\n",
        "    break"
      ],
      "metadata": {
        "id": "twttpxeN4len",
        "outputId": "f939c3de-122b-4a46-dd20-bf191970e90a",
        "colab": {
          "base_uri": "https://localhost:8080/"
        }
      },
      "execution_count": 66,
      "outputs": [
        {
          "output_type": "stream",
          "name": "stdout",
          "text": [
            "1\n",
            "1\n",
            "1\n",
            "1\n",
            "1\n",
            "1\n",
            "1\n",
            "1\n",
            "1\n",
            "1\n"
          ]
        }
      ]
    },
    {
      "cell_type": "code",
      "source": [
        "a =[1,2,3]\n",
        "count=0\n",
        "for i in repeat(1,4):\n",
        "  print(i)\n",
        ""
      ],
      "metadata": {
        "id": "PZM145LN44A8",
        "outputId": "abc3a97e-7fb6-46cb-ea6f-cbe66cd79f96",
        "colab": {
          "base_uri": "https://localhost:8080/"
        }
      },
      "execution_count": 67,
      "outputs": [
        {
          "output_type": "stream",
          "name": "stdout",
          "text": [
            "1\n",
            "1\n",
            "1\n",
            "1\n"
          ]
        }
      ]
    },
    {
      "cell_type": "code",
      "source": [],
      "metadata": {
        "id": "j-wpnzhW49dx"
      },
      "execution_count": null,
      "outputs": []
    }
  ]
}