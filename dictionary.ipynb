{
  "nbformat": 4,
  "nbformat_minor": 0,
  "metadata": {
    "colab": {
      "provenance": [],
      "authorship_tag": "ABX9TyOb1AiFMlrV2p+Rxbe/PL7f",
      "include_colab_link": true
    },
    "kernelspec": {
      "name": "python3",
      "display_name": "Python 3"
    },
    "language_info": {
      "name": "python"
    }
  },
  "cells": [
    {
      "cell_type": "markdown",
      "metadata": {
        "id": "view-in-github",
        "colab_type": "text"
      },
      "source": [
        "<a href=\"https://colab.research.google.com/github/Milavwv/python_learning/blob/main/dictionary.ipynb\" target=\"_parent\"><img src=\"https://colab.research.google.com/assets/colab-badge.svg\" alt=\"Open In Colab\"/></a>"
      ]
    },
    {
      "cell_type": "code",
      "execution_count": 1,
      "metadata": {
        "colab": {
          "base_uri": "https://localhost:8080/"
        },
        "id": "O99kpbNBxAdc",
        "outputId": "79fed009-fe43-4a39-c6b0-cd0229d75dbf"
      },
      "outputs": [
        {
          "output_type": "stream",
          "name": "stdout",
          "text": [
            "{'name': 'Max', 'Age': '28', 'city': 'New York'}\n"
          ]
        }
      ],
      "source": [
        "mydict ={\"name\":\"Max\",\"Age\": \"28\",\"city\" :\"New York\"}\n",
        "print(mydict)"
      ]
    },
    {
      "cell_type": "code",
      "source": [
        "mydict2 =dict(name=\"Mary\",age=27,city=\"Boston\")\n",
        "print(mydict2)"
      ],
      "metadata": {
        "colab": {
          "base_uri": "https://localhost:8080/"
        },
        "id": "nPqRnajbxpVW",
        "outputId": "5a8569cd-35e1-49af-c7bb-0147df7b1126"
      },
      "execution_count": 3,
      "outputs": [
        {
          "output_type": "stream",
          "name": "stdout",
          "text": [
            "{'name': 'Mary', 'age': 27, 'city': 'Boston'}\n"
          ]
        }
      ]
    },
    {
      "cell_type": "code",
      "source": [
        " value =mydict[\"name\"]\n",
        " print(value)"
      ],
      "metadata": {
        "colab": {
          "base_uri": "https://localhost:8080/"
        },
        "id": "2oYEmv7dx0f1",
        "outputId": "ee10d773-d30b-496d-f6bc-ec108162ecb6"
      },
      "execution_count": 4,
      "outputs": [
        {
          "output_type": "stream",
          "name": "stdout",
          "text": [
            "Max\n"
          ]
        }
      ]
    },
    {
      "cell_type": "code",
      "source": [
        "age =mydict[\"Age\"]\n",
        "print(age)"
      ],
      "metadata": {
        "colab": {
          "base_uri": "https://localhost:8080/"
        },
        "id": "FUlhmSgqx_FZ",
        "outputId": "33ab1f76-dcbd-4a80-f4f7-4410ecda41b3"
      },
      "execution_count": 6,
      "outputs": [
        {
          "output_type": "stream",
          "name": "stdout",
          "text": [
            "28\n"
          ]
        }
      ]
    },
    {
      "cell_type": "code",
      "source": [
        "mydict[\"email\"]=\"gengningyi@163.com\""
      ],
      "metadata": {
        "id": "-E_gw8qVyEjp"
      },
      "execution_count": 7,
      "outputs": []
    },
    {
      "cell_type": "code",
      "source": [
        "print(mydict)"
      ],
      "metadata": {
        "colab": {
          "base_uri": "https://localhost:8080/"
        },
        "id": "OqxnyTDIyMvg",
        "outputId": "e015f8e8-1ccf-4386-d6d7-f74c9d847d53"
      },
      "execution_count": 8,
      "outputs": [
        {
          "output_type": "stream",
          "name": "stdout",
          "text": [
            "{'name': 'Max', 'Age': '28', 'city': 'New York', 'email': 'gengningyi@163.com'}\n"
          ]
        }
      ]
    },
    {
      "cell_type": "code",
      "source": [
        "   mydict[\"email\"]=\"coolgengningyi@163.com\"\n",
        "   print(mydict)"
      ],
      "metadata": {
        "colab": {
          "base_uri": "https://localhost:8080/"
        },
        "id": "_0Lxpy9YyOLF",
        "outputId": "e6f08bdb-ba03-470a-d7ab-a60150d0e858"
      },
      "execution_count": 10,
      "outputs": [
        {
          "output_type": "stream",
          "name": "stdout",
          "text": [
            "{'name': 'Max', 'Age': '28', 'city': 'New York', 'email': 'coolgengningyi@163.com'}\n"
          ]
        }
      ]
    },
    {
      "cell_type": "code",
      "source": [
        "#delete\n",
        "del mydict[\"name\"]\n",
        "print(mydict)"
      ],
      "metadata": {
        "colab": {
          "base_uri": "https://localhost:8080/"
        },
        "id": "HR2oDiYtyZYP",
        "outputId": "5087270b-9d4f-4ac5-ccb1-740e9471484f"
      },
      "execution_count": 11,
      "outputs": [
        {
          "output_type": "stream",
          "name": "stdout",
          "text": [
            "{'Age': '28', 'city': 'New York', 'email': 'coolgengningyi@163.com'}\n"
          ]
        }
      ]
    },
    {
      "cell_type": "code",
      "source": [
        "mydict.pop(\"Age\")\n"
      ],
      "metadata": {
        "id": "2rG8-QDiyjj3"
      },
      "execution_count": 14,
      "outputs": []
    },
    {
      "cell_type": "code",
      "source": [
        "print(mydict)"
      ],
      "metadata": {
        "colab": {
          "base_uri": "https://localhost:8080/"
        },
        "id": "yDtrnz47ym7x",
        "outputId": "708bed40-ad71-415f-d6bc-ca7139cd2065"
      },
      "execution_count": 14,
      "outputs": [
        {
          "output_type": "stream",
          "name": "stdout",
          "text": [
            "{'city': 'New York', 'email': 'coolgengningyi@163.com'}\n"
          ]
        }
      ]
    },
    {
      "cell_type": "code",
      "source": [
        "mydict.popitem()\n",
        "print(mydict)"
      ],
      "metadata": {
        "colab": {
          "base_uri": "https://localhost:8080/"
        },
        "id": "RDMH1kRGysXA",
        "outputId": "127f0940-8921-48b5-d841-11a11886e8d7"
      },
      "execution_count": 15,
      "outputs": [
        {
          "output_type": "stream",
          "name": "stdout",
          "text": [
            "{'city': 'New York'}\n"
          ]
        }
      ]
    },
    {
      "cell_type": "code",
      "source": [
        "print(mydict)"
      ],
      "metadata": {
        "colab": {
          "base_uri": "https://localhost:8080/"
        },
        "id": "goQhjXgey7wp",
        "outputId": "617ce439-931b-470e-bf49-4c8877b27bef"
      },
      "execution_count": 16,
      "outputs": [
        {
          "output_type": "stream",
          "name": "stdout",
          "text": [
            "{'city': 'New York'}\n"
          ]
        }
      ]
    },
    {
      "cell_type": "code",
      "source": [
        " mydict ={\"name\":\"Max\",\"Age\": \"28\",\"city\" :\"New York\"}\n",
        " print(mydict)"
      ],
      "metadata": {
        "colab": {
          "base_uri": "https://localhost:8080/"
        },
        "id": "k_mGQZDSzKDl",
        "outputId": "8b9a2aaf-f1cc-4546-ad7c-79e045f9a794"
      },
      "execution_count": 18,
      "outputs": [
        {
          "output_type": "stream",
          "name": "stdout",
          "text": [
            "{'name': 'Max', 'Age': '28', 'city': 'New York'}\n"
          ]
        }
      ]
    },
    {
      "cell_type": "code",
      "source": [
        " if \"name\" in mydict:\n",
        "  print(mydict[\"name\"])"
      ],
      "metadata": {
        "colab": {
          "base_uri": "https://localhost:8080/"
        },
        "id": "AO269nfpzOs-",
        "outputId": "209b2f9f-1b31-4941-971b-df1f762e8232"
      },
      "execution_count": 19,
      "outputs": [
        {
          "output_type": "stream",
          "name": "stdout",
          "text": [
            "Max\n"
          ]
        }
      ]
    },
    {
      "cell_type": "code",
      "source": [
        " if \"lastname\" in mydict:\n",
        "  print(mydict[\"lastname\"])\n",
        "else:\n",
        "  print(\"there was not the word\")"
      ],
      "metadata": {
        "colab": {
          "base_uri": "https://localhost:8080/"
        },
        "id": "ugEnPCqLzW06",
        "outputId": "dfa8618e-5c94-4df7-b747-a68396310c27"
      },
      "execution_count": 21,
      "outputs": [
        {
          "output_type": "stream",
          "name": "stdout",
          "text": [
            "there was not the word\n"
          ]
        }
      ]
    },
    {
      "cell_type": "code",
      "source": [
        "try:\n",
        "  print(mydict[\"name\"])\n",
        "except:\n",
        "  print(\"Error\")"
      ],
      "metadata": {
        "colab": {
          "base_uri": "https://localhost:8080/"
        },
        "id": "32UWgRugzc3K",
        "outputId": "9d673de7-ba58-4233-b931-7c1daa287dff"
      },
      "execution_count": 22,
      "outputs": [
        {
          "output_type": "stream",
          "name": "stdout",
          "text": [
            "Max\n"
          ]
        }
      ]
    },
    {
      "cell_type": "code",
      "source": [
        "try:\n",
        "  print(mydict[\"lastname\"])\n",
        "except:\n",
        "  print(\"Error\")"
      ],
      "metadata": {
        "colab": {
          "base_uri": "https://localhost:8080/"
        },
        "id": "IXXz2HcYzqV_",
        "outputId": "6467ea53-54f0-4cff-a856-2325588b8375"
      },
      "execution_count": 23,
      "outputs": [
        {
          "output_type": "stream",
          "name": "stdout",
          "text": [
            "Error\n"
          ]
        }
      ]
    },
    {
      "cell_type": "code",
      "source": [
        "for key in mydict:\n",
        "  print(key)"
      ],
      "metadata": {
        "colab": {
          "base_uri": "https://localhost:8080/"
        },
        "id": "PLRMY55Tzt5F",
        "outputId": "2833162e-7d7d-47ef-860e-47d4c9565299"
      },
      "execution_count": 24,
      "outputs": [
        {
          "output_type": "stream",
          "name": "stdout",
          "text": [
            "name\n",
            "Age\n",
            "city\n"
          ]
        }
      ]
    },
    {
      "cell_type": "code",
      "source": [
        "for key in mydict.keys():\n",
        "  print(key)"
      ],
      "metadata": {
        "colab": {
          "base_uri": "https://localhost:8080/"
        },
        "id": "Kk1ghGCqz7jb",
        "outputId": "5d8c3c30-93ff-4333-e22c-38d731c3e82c"
      },
      "execution_count": 27,
      "outputs": [
        {
          "output_type": "stream",
          "name": "stdout",
          "text": [
            "name\n",
            "Age\n",
            "city\n"
          ]
        }
      ]
    },
    {
      "cell_type": "code",
      "source": [
        "for key,value in mydict.items():\n",
        "  print(key,value)"
      ],
      "metadata": {
        "colab": {
          "base_uri": "https://localhost:8080/"
        },
        "id": "gpmNfUyez_Hd",
        "outputId": "1ef9b65a-be94-4d0d-c29d-13ef6b048dc8"
      },
      "execution_count": 31,
      "outputs": [
        {
          "output_type": "stream",
          "name": "stdout",
          "text": [
            "name Max\n",
            "Age 28\n",
            "city New York\n"
          ]
        }
      ]
    },
    {
      "cell_type": "code",
      "source": [
        "for value in mydict.values():\n",
        "  print(value)"
      ],
      "metadata": {
        "colab": {
          "base_uri": "https://localhost:8080/"
        },
        "id": "Nitt-QZ80E8x",
        "outputId": "14421f6a-0c37-4642-92a1-c9855c244196"
      },
      "execution_count": 30,
      "outputs": [
        {
          "output_type": "stream",
          "name": "stdout",
          "text": [
            "Max\n",
            "28\n",
            "New York\n"
          ]
        }
      ]
    },
    {
      "cell_type": "code",
      "source": [
        "mydict_cpy =mydict\n",
        "print(mydict_cpy)"
      ],
      "metadata": {
        "colab": {
          "base_uri": "https://localhost:8080/"
        },
        "id": "Zb39OuWA0KeB",
        "outputId": "11897a4f-fe75-4551-b779-a8742da88ec1"
      },
      "execution_count": 33,
      "outputs": [
        {
          "output_type": "stream",
          "name": "stdout",
          "text": [
            "{'name': 'Max', 'Age': '28', 'city': 'New York'}\n"
          ]
        }
      ]
    },
    {
      "cell_type": "code",
      "source": [
        "mydict_cpy[\"email\"] =\"xx@163.com\"\n",
        "print(mydict_cpy)\n",
        "print(mydict)"
      ],
      "metadata": {
        "colab": {
          "base_uri": "https://localhost:8080/"
        },
        "id": "saJKlKs50kjn",
        "outputId": "7fd3570d-12c5-4f2c-d2f4-33bba70517cf"
      },
      "execution_count": 34,
      "outputs": [
        {
          "output_type": "stream",
          "name": "stdout",
          "text": [
            "{'name': 'Max', 'Age': '28', 'city': 'New York', 'email': 'xx@163.com'}\n",
            "{'name': 'Max', 'Age': '28', 'city': 'New York', 'email': 'xx@163.com'}\n"
          ]
        }
      ]
    },
    {
      "cell_type": "code",
      "source": [
        "mydict.pop(\"email\")\n",
        "print(mydict)"
      ],
      "metadata": {
        "colab": {
          "base_uri": "https://localhost:8080/"
        },
        "id": "dohfWqEw0xp6",
        "outputId": "406146d9-484b-4319-e143-29d963380018"
      },
      "execution_count": 38,
      "outputs": [
        {
          "output_type": "stream",
          "name": "stdout",
          "text": [
            "{'name': 'Max', 'Age': '28', 'city': 'New York'}\n"
          ]
        }
      ]
    },
    {
      "cell_type": "code",
      "source": [
        "mydict_copy =mydict.copy()\n",
        "mydict_copy[\"email\"]=\"xx@163.com\"\n",
        "print(mydict)\n",
        "print(mydict_copy)"
      ],
      "metadata": {
        "colab": {
          "base_uri": "https://localhost:8080/"
        },
        "id": "jklg1BE_0-rl",
        "outputId": "dcbd4bbd-f0f4-4a58-fa8b-8f2b83ff6f22"
      },
      "execution_count": 39,
      "outputs": [
        {
          "output_type": "stream",
          "name": "stdout",
          "text": [
            "{'name': 'Max', 'Age': '28', 'city': 'New York'}\n",
            "{'name': 'Max', 'Age': '28', 'city': 'New York', 'email': 'xx@163.com'}\n"
          ]
        }
      ]
    },
    {
      "cell_type": "code",
      "source": [
        "mydict_copy =dict(mydict)\n",
        "mydict_copy[\"email\"]=\"xx@163.com\"\n",
        "print(mydict)\n",
        "print(mydict_copy)"
      ],
      "metadata": {
        "colab": {
          "base_uri": "https://localhost:8080/"
        },
        "id": "ZXdNwWqV1V1a",
        "outputId": "bf8790d7-80ec-4777-ac0a-abff56e0d0a0"
      },
      "execution_count": 40,
      "outputs": [
        {
          "output_type": "stream",
          "name": "stdout",
          "text": [
            "{'name': 'Max', 'Age': '28', 'city': 'New York'}\n",
            "{'name': 'Max', 'Age': '28', 'city': 'New York', 'email': 'xx@163.com'}\n"
          ]
        }
      ]
    },
    {
      "cell_type": "code",
      "source": [
        "#merge\n",
        "dict1={'name': 'Max', 'age': '28',\"email\":\"xx@163.com\"}\n",
        "dict2=dict(name=\"Mary\",age=27,city=\"Boston\")\n",
        "dict1.update(dict2)\n",
        "print(dict1)"
      ],
      "metadata": {
        "colab": {
          "base_uri": "https://localhost:8080/"
        },
        "id": "ZjyJmG0b1XrM",
        "outputId": "ddff00ef-78f3-4a7f-e302-ccce6f218840"
      },
      "execution_count": 45,
      "outputs": [
        {
          "output_type": "stream",
          "name": "stdout",
          "text": [
            "{'name': 'Mary', 'age': 27, 'email': 'xx@163.com', 'city': 'Boston'}\n"
          ]
        }
      ]
    },
    {
      "cell_type": "code",
      "source": [
        " dict1={3:9,6:36,9:81 }\n",
        " print(dict1)\n",
        " value=dict1[3]\n",
        " print(value)"
      ],
      "metadata": {
        "colab": {
          "base_uri": "https://localhost:8080/"
        },
        "id": "yNhrgpaE14s-",
        "outputId": "e4696a36-72d8-411a-a571-ea0b89c02297"
      },
      "execution_count": 47,
      "outputs": [
        {
          "output_type": "stream",
          "name": "stdout",
          "text": [
            "{3: 9, 6: 36, 9: 81}\n",
            "9\n"
          ]
        }
      ]
    },
    {
      "cell_type": "code",
      "source": [],
      "metadata": {
        "id": "nmqEveVH3O4c"
      },
      "execution_count": null,
      "outputs": []
    },
    {
      "cell_type": "code",
      "source": [
        "mytuple= (8,7)\n",
        "mydict ={mytuple:15}\n",
        "print(mydict)"
      ],
      "metadata": {
        "colab": {
          "base_uri": "https://localhost:8080/"
        },
        "id": "7sIMLrqq3Fni",
        "outputId": "974ab560-8499-494d-b86f-a23d5747d646"
      },
      "execution_count": 49,
      "outputs": [
        {
          "output_type": "stream",
          "name": "stdout",
          "text": [
            "{(8, 7): 15}\n"
          ]
        }
      ]
    },
    {
      "cell_type": "code",
      "source": [
        "mylist= [8,7]\n",
        "mydict ={mylist:15}\n",
        "print(mydict)\n",
        "#list is mutable and can be change  ,then it is unhashable"
      ],
      "metadata": {
        "colab": {
          "base_uri": "https://localhost:8080/",
          "height": 180
        },
        "id": "w9nuU-9b3b8W",
        "outputId": "7e975755-8753-41c4-f761-90d719306c6e"
      },
      "execution_count": 50,
      "outputs": [
        {
          "output_type": "error",
          "ename": "TypeError",
          "evalue": "unhashable type: 'list'",
          "traceback": [
            "\u001b[0;31m---------------------------------------------------------------------------\u001b[0m",
            "\u001b[0;31mTypeError\u001b[0m                                 Traceback (most recent call last)",
            "\u001b[0;32m<ipython-input-50-375f35c5f781>\u001b[0m in \u001b[0;36m<cell line: 0>\u001b[0;34m()\u001b[0m\n\u001b[1;32m      1\u001b[0m \u001b[0mmylist\u001b[0m\u001b[0;34m=\u001b[0m \u001b[0;34m[\u001b[0m\u001b[0;36m8\u001b[0m\u001b[0;34m,\u001b[0m\u001b[0;36m7\u001b[0m\u001b[0;34m]\u001b[0m\u001b[0;34m\u001b[0m\u001b[0;34m\u001b[0m\u001b[0m\n\u001b[0;32m----> 2\u001b[0;31m \u001b[0mmydict\u001b[0m \u001b[0;34m=\u001b[0m\u001b[0;34m{\u001b[0m\u001b[0mmylist\u001b[0m\u001b[0;34m:\u001b[0m\u001b[0;36m15\u001b[0m\u001b[0;34m}\u001b[0m\u001b[0;34m\u001b[0m\u001b[0;34m\u001b[0m\u001b[0m\n\u001b[0m\u001b[1;32m      3\u001b[0m \u001b[0mprint\u001b[0m\u001b[0;34m(\u001b[0m\u001b[0mmydict\u001b[0m\u001b[0;34m)\u001b[0m\u001b[0;34m\u001b[0m\u001b[0;34m\u001b[0m\u001b[0m\n",
            "\u001b[0;31mTypeError\u001b[0m: unhashable type: 'list'"
          ]
        }
      ]
    },
    {
      "cell_type": "code",
      "source": [],
      "metadata": {
        "id": "a36BNM9i3kbI"
      },
      "execution_count": null,
      "outputs": []
    }
  ]
}