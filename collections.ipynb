{
  "nbformat": 4,
  "nbformat_minor": 0,
  "metadata": {
    "colab": {
      "provenance": [],
      "authorship_tag": "ABX9TyOsPFwhInijwiKAwqOhN9LP",
      "include_colab_link": true
    },
    "kernelspec": {
      "name": "python3",
      "display_name": "Python 3"
    },
    "language_info": {
      "name": "python"
    }
  },
  "cells": [
    {
      "cell_type": "markdown",
      "metadata": {
        "id": "view-in-github",
        "colab_type": "text"
      },
      "source": [
        "<a href=\"https://colab.research.google.com/github/Milavwv/python_learning/blob/main/collections.ipynb\" target=\"_parent\"><img src=\"https://colab.research.google.com/assets/colab-badge.svg\" alt=\"Open In Colab\"/></a>"
      ]
    },
    {
      "cell_type": "code",
      "execution_count": 1,
      "metadata": {
        "id": "nIiMua6vMN9t"
      },
      "outputs": [],
      "source": [
        "#Collection: Counter, namedtuple,OderedDict ,deque"
      ]
    },
    {
      "cell_type": "code",
      "source": [
        "from collections import Counter"
      ],
      "metadata": {
        "id": "TAWl-2gEMvDZ"
      },
      "execution_count": 2,
      "outputs": []
    },
    {
      "cell_type": "code",
      "source": [
        "a = \"aaaabbbbbcccc\"\n",
        "mycount =Counter(a)\n",
        "print(mycount)"
      ],
      "metadata": {
        "colab": {
          "base_uri": "https://localhost:8080/"
        },
        "id": "DYPvQdLOMyM9",
        "outputId": "3a442c25-b11d-490d-cc25-8a7ad8620bac"
      },
      "execution_count": 3,
      "outputs": [
        {
          "output_type": "stream",
          "name": "stdout",
          "text": [
            "Counter({'b': 5, 'a': 4, 'c': 4})\n"
          ]
        }
      ]
    },
    {
      "cell_type": "code",
      "source": [
        "a = \"aaaabbbbbcccc\"\n",
        "mycount =Counter(a)\n",
        "print(mycount.items())"
      ],
      "metadata": {
        "colab": {
          "base_uri": "https://localhost:8080/"
        },
        "id": "DV0ltUF8NNqt",
        "outputId": "aa1d338a-90fc-4cc2-e300-8813cc60db03"
      },
      "execution_count": 4,
      "outputs": [
        {
          "output_type": "stream",
          "name": "stdout",
          "text": [
            "dict_items([('a', 4), ('b', 5), ('c', 4)])\n"
          ]
        }
      ]
    },
    {
      "cell_type": "code",
      "source": [
        "a = \"aaaabbbbbcccc\"\n",
        "mycount =Counter(a)\n",
        "print(mycount.keys())"
      ],
      "metadata": {
        "colab": {
          "base_uri": "https://localhost:8080/"
        },
        "id": "bpe17FL_NU9z",
        "outputId": "978651be-237d-4621-f4dc-f0d7bae764c7"
      },
      "execution_count": 5,
      "outputs": [
        {
          "output_type": "stream",
          "name": "stdout",
          "text": [
            "dict_keys(['a', 'b', 'c'])\n"
          ]
        }
      ]
    },
    {
      "cell_type": "code",
      "source": [
        "a = \"aaaabbbbbcccc\"\n",
        "mycount =Counter(a)\n",
        "print(mycount.values())"
      ],
      "metadata": {
        "colab": {
          "base_uri": "https://localhost:8080/"
        },
        "id": "A7BjVJnZNWZ_",
        "outputId": "74986464-df76-47a1-ee0b-d1d89638debd"
      },
      "execution_count": 6,
      "outputs": [
        {
          "output_type": "stream",
          "name": "stdout",
          "text": [
            "dict_values([4, 5, 4])\n"
          ]
        }
      ]
    },
    {
      "cell_type": "code",
      "source": [
        "a = \"aaaabbbbbcccc\"\n",
        "mycount =Counter(a)\n",
        "print(mycount.most_common(1))"
      ],
      "metadata": {
        "colab": {
          "base_uri": "https://localhost:8080/"
        },
        "id": "74keO7YgNYMH",
        "outputId": "3446a3de-416e-4d3b-8aae-865f0487f129"
      },
      "execution_count": 7,
      "outputs": [
        {
          "output_type": "stream",
          "name": "stdout",
          "text": [
            "[('b', 5)]\n"
          ]
        }
      ]
    },
    {
      "cell_type": "code",
      "source": [
        "a = \"aaaabbbbbcccc\"\n",
        "mycount =Counter(a)\n",
        "print(mycount.most_common(1)[0])"
      ],
      "metadata": {
        "colab": {
          "base_uri": "https://localhost:8080/"
        },
        "id": "0RmK9qIMNf5p",
        "outputId": "6154f5a3-7262-43bc-ac64-c46c0de75c0e"
      },
      "execution_count": 10,
      "outputs": [
        {
          "output_type": "stream",
          "name": "stdout",
          "text": [
            "('b', 5)\n"
          ]
        }
      ]
    },
    {
      "cell_type": "code",
      "source": [
        "a = \"aaaabbbbbcccc\"\n",
        "mycount =Counter(a)\n",
        "print(mycount.most_common(1)[0][0])\n"
      ],
      "metadata": {
        "colab": {
          "base_uri": "https://localhost:8080/"
        },
        "id": "kdXXmZf0N4dL",
        "outputId": "a903f569-2a55-4f2c-e396-f9e762557f04"
      },
      "execution_count": 11,
      "outputs": [
        {
          "output_type": "stream",
          "name": "stdout",
          "text": [
            "b\n"
          ]
        }
      ]
    },
    {
      "cell_type": "code",
      "source": [
        "a = \"aaaabbbbbcccc\"\n",
        "mycount =Counter(a)\n",
        "print(mycount.elements())"
      ],
      "metadata": {
        "colab": {
          "base_uri": "https://localhost:8080/"
        },
        "id": "-ukJa-0sN-fN",
        "outputId": "b693af30-11f9-49fb-fdc3-cf15f8112c5e"
      },
      "execution_count": 12,
      "outputs": [
        {
          "output_type": "stream",
          "name": "stdout",
          "text": [
            "<itertools.chain object at 0x7bd7f3a0faf0>\n"
          ]
        }
      ]
    },
    {
      "cell_type": "code",
      "source": [
        "a = \"aaaabbbbbcccc\"\n",
        "mycount =Counter(a)\n",
        "print(list(mycount.elements()))"
      ],
      "metadata": {
        "colab": {
          "base_uri": "https://localhost:8080/"
        },
        "id": "rMexbcVpOOaI",
        "outputId": "9d66dd5e-df57-4665-c1bc-faf94e087ce1"
      },
      "execution_count": 13,
      "outputs": [
        {
          "output_type": "stream",
          "name": "stdout",
          "text": [
            "['a', 'a', 'a', 'a', 'b', 'b', 'b', 'b', 'b', 'c', 'c', 'c', 'c']\n"
          ]
        }
      ]
    },
    {
      "cell_type": "code",
      "source": [
        "from collections import namedtuple"
      ],
      "metadata": {
        "id": "RTvkVBeqOYWE"
      },
      "execution_count": 14,
      "outputs": []
    },
    {
      "cell_type": "code",
      "source": [
        "point= namedtuple(\"Point\",\"x,y\")\n",
        "pt= point(1, -4)\n",
        "print(pt)\n",
        "print(pt.x,pt.y)"
      ],
      "metadata": {
        "colab": {
          "base_uri": "https://localhost:8080/"
        },
        "id": "xT8tJJkHPLZX",
        "outputId": "0f8af453-9673-4847-c3d7-87bdeadd4d99"
      },
      "execution_count": 16,
      "outputs": [
        {
          "output_type": "stream",
          "name": "stdout",
          "text": [
            "Point(x=1, y=-4)\n",
            "1 -4\n"
          ]
        }
      ]
    },
    {
      "cell_type": "code",
      "source": [
        "\n",
        "from collections import OrderedDict\n",
        "#remember the order"
      ],
      "metadata": {
        "id": "chppBhpdP0Ur"
      },
      "execution_count": 20,
      "outputs": []
    },
    {
      "cell_type": "code",
      "source": [
        "from collections import defaultdict"
      ],
      "metadata": {
        "id": "DgFnDDvXQPxw"
      },
      "execution_count": 2,
      "outputs": []
    },
    {
      "cell_type": "code",
      "source": [
        "d = defaultdict(int)\n",
        "d[\"a\"]=1\n",
        "d[\"b\"]=2\n",
        "print(d[\"a\"])"
      ],
      "metadata": {
        "colab": {
          "base_uri": "https://localhost:8080/"
        },
        "id": "PbqntNjHRbuY",
        "outputId": "bcf83cad-d7cd-4790-c3cd-ae55161cc1cf"
      },
      "execution_count": 4,
      "outputs": [
        {
          "output_type": "stream",
          "name": "stdout",
          "text": [
            "1\n"
          ]
        }
      ]
    },
    {
      "cell_type": "code",
      "source": [
        "d = defaultdict(int)\n",
        "d[\"a\"]=1\n",
        "d[\"b\"]=2\n",
        "print(d[\"b\"])"
      ],
      "metadata": {
        "colab": {
          "base_uri": "https://localhost:8080/"
        },
        "id": "h0IVWLFNrJ2j",
        "outputId": "a93b258a-6af9-4c57-8a99-b963474e52f3"
      },
      "execution_count": 5,
      "outputs": [
        {
          "output_type": "stream",
          "name": "stdout",
          "text": [
            "2\n"
          ]
        }
      ]
    },
    {
      "cell_type": "code",
      "source": [
        "d = defaultdict(int)\n",
        "d[\"a\"]=1\n",
        "d[\"b\"]=2\n",
        "print(d[\"C\"])"
      ],
      "metadata": {
        "colab": {
          "base_uri": "https://localhost:8080/"
        },
        "id": "m7UFBCsKrLm-",
        "outputId": "70db4a88-f061-4a9a-82d4-2171acebcc8e"
      },
      "execution_count": 6,
      "outputs": [
        {
          "output_type": "stream",
          "name": "stdout",
          "text": [
            "0\n"
          ]
        }
      ]
    },
    {
      "cell_type": "code",
      "source": [
        "d = defaultdict(float)\n",
        "d[\"a\"]=1\n",
        "d[\"b\"]=2\n",
        "print(d[\"C\"])"
      ],
      "metadata": {
        "colab": {
          "base_uri": "https://localhost:8080/"
        },
        "id": "j_W8FDrPrM7G",
        "outputId": "c0eca426-d667-496d-a6b3-32975da79dda"
      },
      "execution_count": 7,
      "outputs": [
        {
          "output_type": "stream",
          "name": "stdout",
          "text": [
            "0.0\n"
          ]
        }
      ]
    },
    {
      "cell_type": "code",
      "source": [
        " from collections import deque"
      ],
      "metadata": {
        "id": "MS5iXQpsrPut"
      },
      "execution_count": 8,
      "outputs": []
    },
    {
      "cell_type": "code",
      "source": [
        "d= deque()\n",
        "d.append(1)\n",
        "d.append(2)\n",
        "d.appendleft(3)\n",
        "print(d)"
      ],
      "metadata": {
        "colab": {
          "base_uri": "https://localhost:8080/"
        },
        "id": "YZEZ0m5RsTN9",
        "outputId": "276a033b-759f-41fb-e07a-4386a0619108"
      },
      "execution_count": 9,
      "outputs": [
        {
          "output_type": "stream",
          "name": "stdout",
          "text": [
            "deque([3, 1, 2])\n"
          ]
        }
      ]
    },
    {
      "cell_type": "code",
      "source": [
        " d.pop()\n",
        " print(d)"
      ],
      "metadata": {
        "colab": {
          "base_uri": "https://localhost:8080/"
        },
        "id": "EHrKh-BWskKD",
        "outputId": "1baa964e-85ea-4aa8-9ef2-dd238d503f4d"
      },
      "execution_count": 10,
      "outputs": [
        {
          "output_type": "stream",
          "name": "stdout",
          "text": [
            "deque([3, 1])\n"
          ]
        }
      ]
    },
    {
      "cell_type": "code",
      "source": [
        "d= deque()\n",
        "d.append(1)\n",
        "d.append(2)\n",
        "d.appendleft(3)\n",
        "d.popleft()\n",
        "print(d)"
      ],
      "metadata": {
        "colab": {
          "base_uri": "https://localhost:8080/"
        },
        "id": "qVImdcNvsp2v",
        "outputId": "d225df8a-d875-4e81-dd2b-a43d00492aeb"
      },
      "execution_count": 13,
      "outputs": [
        {
          "output_type": "stream",
          "name": "stdout",
          "text": [
            "deque([1, 2])\n"
          ]
        }
      ]
    },
    {
      "cell_type": "code",
      "source": [
        "d.extend([4,5,6])\n",
        "print(d)"
      ],
      "metadata": {
        "colab": {
          "base_uri": "https://localhost:8080/"
        },
        "id": "PEDjypOpsukW",
        "outputId": "098b47fe-4af9-4a5c-acca-dd589b17d165"
      },
      "execution_count": 14,
      "outputs": [
        {
          "output_type": "stream",
          "name": "stdout",
          "text": [
            "deque([1, 2, 4, 5, 6])\n"
          ]
        }
      ]
    },
    {
      "cell_type": "code",
      "source": [
        "d.extendleft([7,8,9])\n",
        "print(d)"
      ],
      "metadata": {
        "colab": {
          "base_uri": "https://localhost:8080/"
        },
        "id": "XlXRhUcXs9sp",
        "outputId": "91447cf9-177e-41b8-fe32-7a1acb9de9dd"
      },
      "execution_count": 15,
      "outputs": [
        {
          "output_type": "stream",
          "name": "stdout",
          "text": [
            "deque([9, 8, 7, 1, 2, 4, 5, 6])\n"
          ]
        }
      ]
    },
    {
      "cell_type": "code",
      "source": [
        "print(d)\n",
        "d.rotate(1)\n",
        "print(d)\n",
        "d.rotate(-1)\n",
        "print(d)"
      ],
      "metadata": {
        "colab": {
          "base_uri": "https://localhost:8080/"
        },
        "id": "mVPyEOHYtB4j",
        "outputId": "9c208127-9108-44f3-d84d-378495ef6575"
      },
      "execution_count": 19,
      "outputs": [
        {
          "output_type": "stream",
          "name": "stdout",
          "text": [
            "deque([4, 5, 6, 9, 8, 7, 1, 2])\n",
            "deque([2, 4, 5, 6, 9, 8, 7, 1])\n",
            "deque([4, 5, 6, 9, 8, 7, 1, 2])\n"
          ]
        }
      ]
    },
    {
      "cell_type": "code",
      "source": [],
      "metadata": {
        "id": "ACG-B9xxtFM7"
      },
      "execution_count": null,
      "outputs": []
    }
  ]
}