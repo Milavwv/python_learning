{
  "nbformat": 4,
  "nbformat_minor": 0,
  "metadata": {
    "colab": {
      "provenance": [],
      "authorship_tag": "ABX9TyMlNGzBltYbYYy9Ks6r1KRS",
      "include_colab_link": true
    },
    "kernelspec": {
      "name": "python3",
      "display_name": "Python 3"
    },
    "language_info": {
      "name": "python"
    }
  },
  "cells": [
    {
      "cell_type": "markdown",
      "metadata": {
        "id": "view-in-github",
        "colab_type": "text"
      },
      "source": [
        "<a href=\"https://colab.research.google.com/github/Milavwv/python_learning/blob/main/list_function.ipynb\" target=\"_parent\"><img src=\"https://colab.research.google.com/assets/colab-badge.svg\" alt=\"Open In Colab\"/></a>"
      ]
    },
    {
      "cell_type": "code",
      "execution_count": 2,
      "metadata": {
        "colab": {
          "base_uri": "https://localhost:8080/"
        },
        "id": "yzmJwOQCqdr2",
        "outputId": "573b7d8e-463a-4c14-d7c8-26abae1cdfd8"
      },
      "outputs": [
        {
          "output_type": "stream",
          "name": "stdout",
          "text": [
            "['banana', 'cherry', 'apple']\n"
          ]
        }
      ],
      "source": [
        "mylist=[\"banana\",\"cherry\",\"apple\"]\n",
        "print(mylist)"
      ]
    },
    {
      "cell_type": "code",
      "source": [
        "mylist2=list()\n",
        "print(mylist2)"
      ],
      "metadata": {
        "colab": {
          "base_uri": "https://localhost:8080/"
        },
        "id": "bPgav1Umqqhw",
        "outputId": "843f9bc2-168b-44eb-e051-f6f6fba1576d"
      },
      "execution_count": 3,
      "outputs": [
        {
          "output_type": "stream",
          "name": "stdout",
          "text": [
            "[]\n"
          ]
        }
      ]
    },
    {
      "cell_type": "code",
      "source": [
        "mylist2=[5,True,\"apple\",\"apple\"]"
      ],
      "metadata": {
        "id": "k_hj_v5LqwVr"
      },
      "execution_count": 4,
      "outputs": []
    },
    {
      "cell_type": "code",
      "source": [
        "print(mylist2)"
      ],
      "metadata": {
        "colab": {
          "base_uri": "https://localhost:8080/"
        },
        "id": "IsuQSqHWrDRj",
        "outputId": "1b36d2f4-d24b-4b00-ac77-6bc689c1f51f"
      },
      "execution_count": 5,
      "outputs": [
        {
          "output_type": "stream",
          "name": "stdout",
          "text": [
            "[5, True, 'apple', 'apple']\n"
          ]
        }
      ]
    },
    {
      "cell_type": "code",
      "source": [
        "item =mylist[-2]\n",
        "print(item)"
      ],
      "metadata": {
        "colab": {
          "base_uri": "https://localhost:8080/"
        },
        "id": "dvoLblForHdA",
        "outputId": "e75e0a39-ee6e-4012-a252-6efa8a0dfc8f"
      },
      "execution_count": 10,
      "outputs": [
        {
          "output_type": "stream",
          "name": "stdout",
          "text": [
            "cherry\n"
          ]
        }
      ]
    },
    {
      "cell_type": "code",
      "source": [
        "for x in mylist:\n",
        "  print(x)"
      ],
      "metadata": {
        "colab": {
          "base_uri": "https://localhost:8080/"
        },
        "id": "fCKAhriorJ-x",
        "outputId": "e3098cc0-a6d4-4850-d467-478586d246d1"
      },
      "execution_count": 12,
      "outputs": [
        {
          "output_type": "stream",
          "name": "stdout",
          "text": [
            "banana\n",
            "cherry\n",
            "apple\n"
          ]
        }
      ]
    },
    {
      "cell_type": "code",
      "source": [
        "if \"banana\" in mylist:\n",
        "  print(\"yes\")\n",
        "else:\n",
        "  print(\"no\")"
      ],
      "metadata": {
        "colab": {
          "base_uri": "https://localhost:8080/"
        },
        "id": "U5LbIitHrc6h",
        "outputId": "7dfb0398-ca1d-4c72-9b64-7ef2b5fe0ec9"
      },
      "execution_count": 14,
      "outputs": [
        {
          "output_type": "stream",
          "name": "stdout",
          "text": [
            "yes\n"
          ]
        }
      ]
    },
    {
      "cell_type": "code",
      "source": [
        "print(len(mylist))"
      ],
      "metadata": {
        "colab": {
          "base_uri": "https://localhost:8080/"
        },
        "id": "ncNc05Barpex",
        "outputId": "ed627d72-1cd0-4cf2-c112-75445b427201"
      },
      "execution_count": 16,
      "outputs": [
        {
          "output_type": "stream",
          "name": "stdout",
          "text": [
            "3\n"
          ]
        }
      ]
    },
    {
      "cell_type": "code",
      "source": [
        "mylist.append(\"lemon\")\n"
      ],
      "metadata": {
        "id": "xvuYq5y9rvFS"
      },
      "execution_count": 17,
      "outputs": []
    },
    {
      "cell_type": "code",
      "source": [
        "print(mylist)"
      ],
      "metadata": {
        "colab": {
          "base_uri": "https://localhost:8080/"
        },
        "id": "SGngL9N8r17r",
        "outputId": "d9473846-f869-40dc-ed7b-d90e2d1d39b0"
      },
      "execution_count": 18,
      "outputs": [
        {
          "output_type": "stream",
          "name": "stdout",
          "text": [
            "['banana', 'cherry', 'apple', 'lemon']\n"
          ]
        }
      ]
    },
    {
      "cell_type": "code",
      "source": [
        "mylist.insert(1,\"bluebeery\")\n",
        "print(mylist)"
      ],
      "metadata": {
        "colab": {
          "base_uri": "https://localhost:8080/"
        },
        "id": "TG_M0RcTr3aI",
        "outputId": "23db67e5-9deb-4c35-d13f-f7c9a4915c77"
      },
      "execution_count": 19,
      "outputs": [
        {
          "output_type": "stream",
          "name": "stdout",
          "text": [
            "['banana', 'bluebeery', 'cherry', 'apple', 'lemon']\n"
          ]
        }
      ]
    },
    {
      "cell_type": "code",
      "source": [
        "item = mylist.pop()\n",
        "print(item)"
      ],
      "metadata": {
        "colab": {
          "base_uri": "https://localhost:8080/"
        },
        "id": "X4fTzSylr-zt",
        "outputId": "28792d45-ba62-467f-80a0-a38ae0f9f49c"
      },
      "execution_count": 20,
      "outputs": [
        {
          "output_type": "stream",
          "name": "stdout",
          "text": [
            "lemon\n"
          ]
        }
      ]
    },
    {
      "cell_type": "code",
      "source": [
        "item = mylist.remove(\"cherry\")\n",
        "print(mylist)"
      ],
      "metadata": {
        "colab": {
          "base_uri": "https://localhost:8080/"
        },
        "id": "SRgvHUrEsG1V",
        "outputId": "311ef964-98ae-445f-8760-c77287f3a835"
      },
      "execution_count": 21,
      "outputs": [
        {
          "output_type": "stream",
          "name": "stdout",
          "text": [
            "['banana', 'bluebeery', 'apple']\n"
          ]
        }
      ]
    },
    {
      "cell_type": "code",
      "source": [
        "item=mylist.clear()"
      ],
      "metadata": {
        "id": "HJW9L1IisQr_"
      },
      "execution_count": 22,
      "outputs": []
    },
    {
      "cell_type": "code",
      "source": [
        "print(item)"
      ],
      "metadata": {
        "colab": {
          "base_uri": "https://localhost:8080/"
        },
        "id": "wxoTfjRzsT5J",
        "outputId": "0c202b19-0725-4c02-a551-c0bf0b2c36c7"
      },
      "execution_count": 23,
      "outputs": [
        {
          "output_type": "stream",
          "name": "stdout",
          "text": [
            "None\n"
          ]
        }
      ]
    },
    {
      "cell_type": "code",
      "source": [
        "item =mylist.reverse()"
      ],
      "metadata": {
        "id": "a6kRz2JWsVsb"
      },
      "execution_count": 24,
      "outputs": []
    },
    {
      "cell_type": "code",
      "source": [
        "mylist=[4,3,1,-1,-5,10]\n",
        "print(mylist)\n",
        "mylist.sort()\n",
        "print(mylist)"
      ],
      "metadata": {
        "colab": {
          "base_uri": "https://localhost:8080/"
        },
        "id": "OU8tpfufsZXc",
        "outputId": "14360179-f904-435e-83f8-69aca07c3794"
      },
      "execution_count": 32,
      "outputs": [
        {
          "output_type": "stream",
          "name": "stdout",
          "text": [
            "[4, 3, 1, -1, -5, 10]\n",
            "[-5, -1, 1, 3, 4, 10]\n"
          ]
        }
      ]
    },
    {
      "cell_type": "code",
      "source": [
        "mylist=[4,3,1,-1,-5,10]\n",
        "print(mylist)\n",
        "new_item = sorted(mylist)\n",
        "print(new_item)"
      ],
      "metadata": {
        "colab": {
          "base_uri": "https://localhost:8080/"
        },
        "id": "grvpm_aCsj8W",
        "outputId": "ae191212-02f6-4ea5-f93e-bf6566084744"
      },
      "execution_count": 33,
      "outputs": [
        {
          "output_type": "stream",
          "name": "stdout",
          "text": [
            "[4, 3, 1, -1, -5, 10]\n",
            "[-5, -1, 1, 3, 4, 10]\n"
          ]
        }
      ]
    },
    {
      "cell_type": "code",
      "source": [
        "mylist=[0]*5\n",
        "print(mylist)"
      ],
      "metadata": {
        "colab": {
          "base_uri": "https://localhost:8080/"
        },
        "id": "ImGpHDOtso09",
        "outputId": "39b9cae1-1fd1-4ec0-cbef-1f4b5e71ea48"
      },
      "execution_count": 34,
      "outputs": [
        {
          "output_type": "stream",
          "name": "stdout",
          "text": [
            "[0, 0, 0, 0, 0]\n"
          ]
        }
      ]
    },
    {
      "cell_type": "code",
      "source": [
        "mulist2=[1,2,3,4,5,6,7,8,9]\n",
        "new_list=mylist+mulist2"
      ],
      "metadata": {
        "id": "q1O94aBHt0ie"
      },
      "execution_count": 35,
      "outputs": []
    },
    {
      "cell_type": "code",
      "source": [
        "print(new_list)"
      ],
      "metadata": {
        "colab": {
          "base_uri": "https://localhost:8080/"
        },
        "id": "iiapgruHt8n-",
        "outputId": "c7877ceb-6a7a-44dc-9b61-f16920eaf9a8"
      },
      "execution_count": 36,
      "outputs": [
        {
          "output_type": "stream",
          "name": "stdout",
          "text": [
            "[0, 0, 0, 0, 0, 1, 2, 3, 4, 5]\n"
          ]
        }
      ]
    },
    {
      "cell_type": "code",
      "source": [
        "mylist2=[1,2,3,4,5,6,7,8,9]\n",
        "a =mylist2[::-1]\n",
        "print(a)"
      ],
      "metadata": {
        "colab": {
          "base_uri": "https://localhost:8080/"
        },
        "id": "t6ugwLDdt-5w",
        "outputId": "09c061dd-e843-4fa7-b1ea-a192a7d7e141"
      },
      "execution_count": 44,
      "outputs": [
        {
          "output_type": "stream",
          "name": "stdout",
          "text": [
            "[9, 8, 7, 6, 5, 4, 3, 2, 1]\n"
          ]
        }
      ]
    },
    {
      "cell_type": "code",
      "source": [
        " list_org =[\"banana\",\"apple\",\"cherry\"]\n",
        " list_cop =list_org\n",
        " print(list_cop)"
      ],
      "metadata": {
        "colab": {
          "base_uri": "https://localhost:8080/"
        },
        "id": "KAYTLOOguJbI",
        "outputId": "b15d1933-1aa5-4b9c-d343-921fa6976f72"
      },
      "execution_count": 46,
      "outputs": [
        {
          "output_type": "stream",
          "name": "stdout",
          "text": [
            "['banana', 'apple', 'cherry']\n"
          ]
        }
      ]
    },
    {
      "cell_type": "code",
      "source": [
        "list_cop.append(\"lemon\")\n",
        "print(list_cop)\n",
        "print(list_org)"
      ],
      "metadata": {
        "colab": {
          "base_uri": "https://localhost:8080/"
        },
        "id": "bCz-zXHju44p",
        "outputId": "29113b31-50bd-4c9b-8f6c-5b294123ec54"
      },
      "execution_count": 53,
      "outputs": [
        {
          "output_type": "stream",
          "name": "stdout",
          "text": [
            "['banana', 'apple', 'cherry', 'lemon', 'lemon', 'lemon', 'lemon', 'lemon', 'lemon', 'lemon']\n",
            "['banana', 'apple', 'cherry', 'lemon', 'lemon', 'lemon', 'lemon', 'lemon', 'lemon', 'lemon']\n"
          ]
        }
      ]
    },
    {
      "cell_type": "code",
      "source": [
        "list_cop.pop()"
      ],
      "metadata": {
        "colab": {
          "base_uri": "https://localhost:8080/",
          "height": 35
        },
        "id": "f9Q23ii4vJdf",
        "outputId": "bafdf133-d81b-4138-937f-dda329535d26"
      },
      "execution_count": 54,
      "outputs": [
        {
          "output_type": "execute_result",
          "data": {
            "text/plain": [
              "'lemon'"
            ],
            "application/vnd.google.colaboratory.intrinsic+json": {
              "type": "string"
            }
          },
          "metadata": {},
          "execution_count": 54
        }
      ]
    },
    {
      "cell_type": "code",
      "source": [
        "list_cop =list_org.copy()\n",
        "list_cop.append(\"grape\")\n",
        "while \"lemon\" in list_cop:\n",
        " list_cop.remove(\"lemon\")\n",
        "while \"lemon\" in list_org:\n",
        " list_org.remove(\"lemon\")\n",
        "print(list_org)\n",
        "print(list_cop)"
      ],
      "metadata": {
        "colab": {
          "base_uri": "https://localhost:8080/"
        },
        "id": "iThAzb43vlxP",
        "outputId": "517272e5-ff65-497b-82e9-caf7ca7dddcf"
      },
      "execution_count": 64,
      "outputs": [
        {
          "output_type": "stream",
          "name": "stdout",
          "text": [
            "['banana', 'apple', 'cherry']\n",
            "['banana', 'apple', 'cherry', 'grape']\n"
          ]
        }
      ]
    },
    {
      "cell_type": "code",
      "source": [
        "mylist=[1,2,3,4,5,6]\n",
        "b=[i/2 for i in mylist]\n",
        "print(mylist)\n",
        "print(b)"
      ],
      "metadata": {
        "colab": {
          "base_uri": "https://localhost:8080/"
        },
        "id": "sNz2bFhBv56D",
        "outputId": "30d57ad2-dc2c-4178-a49c-fb0cf793a3b5"
      },
      "execution_count": 67,
      "outputs": [
        {
          "output_type": "stream",
          "name": "stdout",
          "text": [
            "[1, 2, 3, 4, 5, 6]\n",
            "[0.5, 1.0, 1.5, 2.0, 2.5, 3.0]\n"
          ]
        }
      ]
    },
    {
      "cell_type": "code",
      "source": [],
      "metadata": {
        "id": "Bv9z3g4LxJdc"
      },
      "execution_count": null,
      "outputs": []
    }
  ]
}