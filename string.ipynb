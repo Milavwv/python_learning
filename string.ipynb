{
  "nbformat": 4,
  "nbformat_minor": 0,
  "metadata": {
    "colab": {
      "provenance": [],
      "authorship_tag": "ABX9TyO/x32zwX0EhqT1f2fCxdfb",
      "include_colab_link": true
    },
    "kernelspec": {
      "name": "python3",
      "display_name": "Python 3"
    },
    "language_info": {
      "name": "python"
    }
  },
  "cells": [
    {
      "cell_type": "markdown",
      "metadata": {
        "id": "view-in-github",
        "colab_type": "text"
      },
      "source": [
        "<a href=\"https://colab.research.google.com/github/Milavwv/python_learning/blob/main/string.ipynb\" target=\"_parent\"><img src=\"https://colab.research.google.com/assets/colab-badge.svg\" alt=\"Open In Colab\"/></a>"
      ]
    },
    {
      "cell_type": "code",
      "execution_count": null,
      "metadata": {
        "id": "38ml33EOBJMw"
      },
      "outputs": [],
      "source": [
        "#strings: orderd ,immutable,text representation\n",
        "#  %, fomart(),f-strings"
      ]
    },
    {
      "cell_type": "code",
      "source": [
        "mystr = \"Hello world\"\n",
        "print(mystr)"
      ],
      "metadata": {
        "colab": {
          "base_uri": "https://localhost:8080/"
        },
        "id": "RP419FcoBbo_",
        "outputId": "693cd7b8-4111-4496-dac3-95c6e6b8c702"
      },
      "execution_count": null,
      "outputs": [
        {
          "output_type": "stream",
          "name": "stdout",
          "text": [
            "Hello world\n"
          ]
        }
      ]
    },
    {
      "cell_type": "code",
      "source": [
        "mystr = \"I'm a programmer\"\n",
        "print(mystr)"
      ],
      "metadata": {
        "colab": {
          "base_uri": "https://localhost:8080/"
        },
        "id": "vGKsntISB6nV",
        "outputId": "ee126a8f-24e2-4e01-88a2-3ab00b281051"
      },
      "execution_count": null,
      "outputs": [
        {
          "output_type": "stream",
          "name": "stdout",
          "text": [
            "I'm a programmer\n"
          ]
        }
      ]
    },
    {
      "cell_type": "code",
      "source": [
        "mystr = 'I\\'m a programmer'\n",
        "print(mystr)"
      ],
      "metadata": {
        "colab": {
          "base_uri": "https://localhost:8080/"
        },
        "id": "OXUTQSHZCC4S",
        "outputId": "96a42bc1-627f-4641-9121-ce7f689924ef"
      },
      "execution_count": null,
      "outputs": [
        {
          "output_type": "stream",
          "name": "stdout",
          "text": [
            "I'm a programmer\n"
          ]
        }
      ]
    },
    {
      "cell_type": "code",
      "source": [
        "mystr = \"\"\"I'm\n",
        "a programmer\"\"\"\n",
        "print(mystr)"
      ],
      "metadata": {
        "colab": {
          "base_uri": "https://localhost:8080/"
        },
        "id": "3BpNqRlmCJV5",
        "outputId": "cdc6920a-5209-459c-c070-a8986a05a228"
      },
      "execution_count": null,
      "outputs": [
        {
          "output_type": "stream",
          "name": "stdout",
          "text": [
            "I'm \n",
            "a programmer\n"
          ]
        }
      ]
    },
    {
      "cell_type": "code",
      "source": [
        "mystr = \"\"\"I'm \\\n",
        "a programmer\"\"\"\n",
        "print(mystr)"
      ],
      "metadata": {
        "colab": {
          "base_uri": "https://localhost:8080/"
        },
        "id": "Xc9R0x64CfNA",
        "outputId": "387d7060-9f6e-4a30-8b2c-ff0c621974c9"
      },
      "execution_count": null,
      "outputs": [
        {
          "output_type": "stream",
          "name": "stdout",
          "text": [
            "I'm a programmer\n"
          ]
        }
      ]
    },
    {
      "cell_type": "code",
      "source": [
        "mystr =\"Hello World\"\n",
        "char =mystr[1]\n",
        "print(char)"
      ],
      "metadata": {
        "colab": {
          "base_uri": "https://localhost:8080/"
        },
        "id": "5VfUF9-BCjIA",
        "outputId": "3d2db268-bdbb-4105-88d5-02769607be74"
      },
      "execution_count": null,
      "outputs": [
        {
          "output_type": "stream",
          "name": "stdout",
          "text": [
            "e\n"
          ]
        }
      ]
    },
    {
      "cell_type": "code",
      "source": [
        "mystr =\"Hello World\"\n",
        "substr =mystr[1:5]\n",
        "print(substr)"
      ],
      "metadata": {
        "colab": {
          "base_uri": "https://localhost:8080/"
        },
        "id": "obk4Fr08CwGl",
        "outputId": "dc9ae58f-d0f0-4207-b13a-f70a9d09045d"
      },
      "execution_count": null,
      "outputs": [
        {
          "output_type": "stream",
          "name": "stdout",
          "text": [
            "ello\n"
          ]
        }
      ]
    },
    {
      "cell_type": "code",
      "source": [
        "mystr =\"Hello World\"\n",
        "substr =mystr[::-1]\n",
        "print(substr)"
      ],
      "metadata": {
        "colab": {
          "base_uri": "https://localhost:8080/"
        },
        "id": "4JRgK1TKC_nu",
        "outputId": "64e142b2-b9f7-434c-ce79-fc8401394891"
      },
      "execution_count": null,
      "outputs": [
        {
          "output_type": "stream",
          "name": "stdout",
          "text": [
            "dlroW olleH\n"
          ]
        }
      ]
    },
    {
      "cell_type": "code",
      "source": [
        "greeting =\"Hello\"\n",
        "name =\"Mila\"\n",
        "sentence =greeting +\" \"+ name\n",
        "print(sentence)"
      ],
      "metadata": {
        "colab": {
          "base_uri": "https://localhost:8080/"
        },
        "id": "ywUjfNHeDMvr",
        "outputId": "024abf19-9c01-4b18-ebff-1f1528c8b951"
      },
      "execution_count": null,
      "outputs": [
        {
          "output_type": "stream",
          "name": "stdout",
          "text": [
            "Hello Mila\n"
          ]
        }
      ]
    },
    {
      "cell_type": "code",
      "source": [
        "for i in greeting:\n",
        " print(i)"
      ],
      "metadata": {
        "colab": {
          "base_uri": "https://localhost:8080/"
        },
        "id": "4GoNSl3cDeyU",
        "outputId": "e5006035-8bb3-43c6-ccc2-d36576418620"
      },
      "execution_count": null,
      "outputs": [
        {
          "output_type": "stream",
          "name": "stdout",
          "text": [
            "H\n",
            "e\n",
            "l\n",
            "l\n",
            "o\n"
          ]
        }
      ]
    },
    {
      "cell_type": "code",
      "source": [
        "if \"e\" in greeting:\n",
        "  print(\"yes\")\n",
        "else:\n",
        "  print(\"no\")\n"
      ],
      "metadata": {
        "colab": {
          "base_uri": "https://localhost:8080/"
        },
        "id": "t3hj_Uq3DjGl",
        "outputId": "ffdc93c2-7275-4844-cdea-a56545afb60a"
      },
      "execution_count": null,
      "outputs": [
        {
          "output_type": "stream",
          "name": "stdout",
          "text": [
            "yes\n"
          ]
        }
      ]
    },
    {
      "cell_type": "code",
      "source": [
        "mystr = '      Hello Wolrd    '\n",
        "print(mystr)"
      ],
      "metadata": {
        "colab": {
          "base_uri": "https://localhost:8080/"
        },
        "id": "ypVeDTGODvJB",
        "outputId": "cba9545e-3453-4d1e-f159-ab300c7a7ce7"
      },
      "execution_count": null,
      "outputs": [
        {
          "output_type": "stream",
          "name": "stdout",
          "text": [
            "      Hello Wolrd    \n"
          ]
        }
      ]
    },
    {
      "cell_type": "code",
      "source": [
        "mystr=mystr.strip()\n",
        "print(mystr)"
      ],
      "metadata": {
        "colab": {
          "base_uri": "https://localhost:8080/"
        },
        "id": "FOavijxBD2DS",
        "outputId": "2874be31-aa6d-41a5-aeed-7cbc1c6b172c"
      },
      "execution_count": null,
      "outputs": [
        {
          "output_type": "stream",
          "name": "stdout",
          "text": [
            "Hello Wolrd\n"
          ]
        }
      ]
    },
    {
      "cell_type": "code",
      "source": [
        "mystr =\"Hello Wolrd\"\n",
        "print(mystr.upper())\n",
        "print(mystr.lower())\n"
      ],
      "metadata": {
        "colab": {
          "base_uri": "https://localhost:8080/"
        },
        "id": "6xsvbZMSD5NO",
        "outputId": "f5ee28b4-dbd7-4710-9700-ed86606ec977"
      },
      "execution_count": null,
      "outputs": [
        {
          "output_type": "stream",
          "name": "stdout",
          "text": [
            "HELLO WOLRD\n",
            "hello wolrd\n"
          ]
        }
      ]
    },
    {
      "cell_type": "code",
      "source": [
        "\n",
        "mystr =\"Hello World\"\n",
        "print(mystr.startswith(\"H\"))\n",
        "print(mystr.startswith(\"WOLRD\"))\n",
        "print(mystr.endswith(\"World\"))"
      ],
      "metadata": {
        "colab": {
          "base_uri": "https://localhost:8080/"
        },
        "id": "3m1cIIeDERGV",
        "outputId": "e08478d4-2e90-45fa-bed2-545336e89a4c"
      },
      "execution_count": null,
      "outputs": [
        {
          "output_type": "stream",
          "name": "stdout",
          "text": [
            "True\n",
            "False\n",
            "True\n"
          ]
        }
      ]
    },
    {
      "cell_type": "code",
      "source": [
        "mystr =\"Hello World\"\n",
        "print(mystr.find(\"lo\"))\n"
      ],
      "metadata": {
        "colab": {
          "base_uri": "https://localhost:8080/"
        },
        "id": "iSWEt2GNEfnq",
        "outputId": "cc3434a1-3ed0-4dd6-a609-78fa122afa03"
      },
      "execution_count": null,
      "outputs": [
        {
          "output_type": "stream",
          "name": "stdout",
          "text": [
            "3\n"
          ]
        }
      ]
    },
    {
      "cell_type": "code",
      "source": [
        "mystr =\"Hello World\"\n",
        "print(mystr.count(\"o\"))"
      ],
      "metadata": {
        "colab": {
          "base_uri": "https://localhost:8080/"
        },
        "id": "IlLYgLuiExjn",
        "outputId": "6d7a9a9c-975e-4a63-ea8a-4a72c6c5ef97"
      },
      "execution_count": null,
      "outputs": [
        {
          "output_type": "stream",
          "name": "stdout",
          "text": [
            "2\n"
          ]
        }
      ]
    },
    {
      "cell_type": "code",
      "source": [
        "mystr =\"Hello World\"\n",
        "print(mystr.count(\"lo\"))"
      ],
      "metadata": {
        "colab": {
          "base_uri": "https://localhost:8080/"
        },
        "id": "edj-jnGHFH1q",
        "outputId": "d7c14d5e-f4f3-4e7c-a86c-c33d8f647b63"
      },
      "execution_count": null,
      "outputs": [
        {
          "output_type": "stream",
          "name": "stdout",
          "text": [
            "1\n"
          ]
        }
      ]
    },
    {
      "cell_type": "code",
      "source": [
        "mystr =\"Hello World\"\n",
        "print(mystr.replace(\"World\",\"universe\"))"
      ],
      "metadata": {
        "colab": {
          "base_uri": "https://localhost:8080/"
        },
        "id": "KZ12Zz1OFKNF",
        "outputId": "1b96208a-f325-4416-be85-cf56b2903627"
      },
      "execution_count": null,
      "outputs": [
        {
          "output_type": "stream",
          "name": "stdout",
          "text": [
            "Hello universe\n"
          ]
        }
      ]
    },
    {
      "cell_type": "code",
      "source": [
        "mystr =\"Hello World\"\n",
        "print(mystr.replace(\"Worrrld\",\"universe\"))"
      ],
      "metadata": {
        "colab": {
          "base_uri": "https://localhost:8080/"
        },
        "id": "JAhHzxsoFRSG",
        "outputId": "2ec0986d-bca9-4f7d-99f7-c00369f0b703"
      },
      "execution_count": null,
      "outputs": [
        {
          "output_type": "stream",
          "name": "stdout",
          "text": [
            "Hello World\n"
          ]
        }
      ]
    },
    {
      "cell_type": "code",
      "source": [
        "mystr =\"how are you doing \"\n",
        "mylist=mystr.split(\" \")\n",
        "print(mylist)"
      ],
      "metadata": {
        "colab": {
          "base_uri": "https://localhost:8080/"
        },
        "id": "QgyOyonqFYAj",
        "outputId": "867de3a0-84bf-4bc2-a9ba-395318b99726"
      },
      "execution_count": null,
      "outputs": [
        {
          "output_type": "stream",
          "name": "stdout",
          "text": [
            "['how', 'are', 'you', 'doing']\n"
          ]
        }
      ]
    },
    {
      "cell_type": "code",
      "source": [
        "mystr =\"how, are, you, doing \"\n",
        "mylist=mystr.split(\", \")\n",
        "print(mylist)"
      ],
      "metadata": {
        "colab": {
          "base_uri": "https://localhost:8080/"
        },
        "id": "DiBozEjIFkCk",
        "outputId": "249cb54f-4789-467b-b0ee-185f7623b653"
      },
      "execution_count": null,
      "outputs": [
        {
          "output_type": "stream",
          "name": "stdout",
          "text": [
            "['how', 'are', 'you', 'doing ']\n"
          ]
        }
      ]
    },
    {
      "cell_type": "code",
      "source": [
        "mystr =\"how are you doing \"\n",
        "mylist=mystr.split(\" \")\n",
        "print(mylist)\n",
        "newstr = \" \".join(mylist)\n",
        "print(newstr)"
      ],
      "metadata": {
        "colab": {
          "base_uri": "https://localhost:8080/"
        },
        "id": "14478c34FtIf",
        "outputId": "ca3dca81-d446-46dc-eae8-25fb09eaeb4d"
      },
      "execution_count": 42,
      "outputs": [
        {
          "output_type": "stream",
          "name": "stdout",
          "text": [
            "['how', 'are', 'you', 'doing', '']\n",
            "how are you doing \n"
          ]
        }
      ]
    },
    {
      "cell_type": "code",
      "source": [
        "mylist =[\"a\"]*6\n",
        "print(mylist)"
      ],
      "metadata": {
        "id": "S1g__FGfF4SA",
        "colab": {
          "base_uri": "https://localhost:8080/"
        },
        "outputId": "405f99b9-8ea6-4cb4-be09-d4516621687d"
      },
      "execution_count": 43,
      "outputs": [
        {
          "output_type": "stream",
          "name": "stdout",
          "text": [
            "['a', 'a', 'a', 'a', 'a', 'a']\n"
          ]
        }
      ]
    },
    {
      "cell_type": "code",
      "source": [
        "mystring =\" \"\n",
        "for i in mylist:\n",
        "  mystring+=i\n",
        "print(mylist)"
      ],
      "metadata": {
        "colab": {
          "base_uri": "https://localhost:8080/"
        },
        "id": "aYgxa4ZEI6Dy",
        "outputId": "ded54b75-94d2-441e-c986-65aaf4644955"
      },
      "execution_count": 45,
      "outputs": [
        {
          "output_type": "stream",
          "name": "stdout",
          "text": [
            "['a', 'a', 'a', 'a', 'a', 'a']\n"
          ]
        }
      ]
    },
    {
      "cell_type": "code",
      "source": [
        " var =3.1314\n",
        " var2 =6\n",
        " mystr =f\"the variable is {var} and {var2} \"\n",
        " print(mystr)"
      ],
      "metadata": {
        "colab": {
          "base_uri": "https://localhost:8080/"
        },
        "id": "IiU4pdcCLsG_",
        "outputId": "f19aaa51-d55a-4572-98f0-d6e55bf0e827"
      },
      "execution_count": 56,
      "outputs": [
        {
          "output_type": "stream",
          "name": "stdout",
          "text": [
            "the variable is 3.1314 and 6 \n"
          ]
        }
      ]
    },
    {
      "cell_type": "code",
      "source": [
        " var =3.1314\n",
        " var2 =6\n",
        " mystr =f\"the variable is {var} and {var2} \"\n",
        " print(mystr)"
      ],
      "metadata": {
        "colab": {
          "base_uri": "https://localhost:8080/"
        },
        "id": "Ff7KGBZRLxvg",
        "outputId": "1bcad5f6-625a-4319-f721-d4f122edcd6f"
      },
      "execution_count": 57,
      "outputs": [
        {
          "output_type": "stream",
          "name": "stdout",
          "text": [
            "the variable is 3.1314 and 6 \n"
          ]
        }
      ]
    },
    {
      "cell_type": "code",
      "source": [
        " var =3.1314\n",
        " var2 =6\n",
        " mystr =f\"the variable is {var*2} and {var2} \"\n",
        " print(mystr)"
      ],
      "metadata": {
        "colab": {
          "base_uri": "https://localhost:8080/"
        },
        "id": "XQ1tpMbRL8o_",
        "outputId": "9d042ef1-1aee-468b-cc72-6b94b8206761"
      },
      "execution_count": 58,
      "outputs": [
        {
          "output_type": "stream",
          "name": "stdout",
          "text": [
            "the variable is 6.2628 and 6 \n"
          ]
        }
      ]
    },
    {
      "cell_type": "code",
      "source": [
        " var =3.1314\n",
        " var2 =6\n",
        " mystr =f\"the variable is {var:.2f} and {var2} \"\n",
        " print(mystr)"
      ],
      "metadata": {
        "colab": {
          "base_uri": "https://localhost:8080/"
        },
        "id": "MdMtVyZqL_Do",
        "outputId": "33acef6a-dc40-4d5c-886d-ee3d32e993a9"
      },
      "execution_count": 59,
      "outputs": [
        {
          "output_type": "stream",
          "name": "stdout",
          "text": [
            "the variable is 3.13 and 6 \n"
          ]
        }
      ]
    },
    {
      "cell_type": "code",
      "source": [],
      "metadata": {
        "id": "OFkMPri5MG1l"
      },
      "execution_count": null,
      "outputs": []
    }
  ]
}